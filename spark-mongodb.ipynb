{
 "cells": [
  {
   "cell_type": "markdown",
   "metadata": {},
   "source": [
    "* Spark connector https://docs.mongodb.com/spark-connector/current/\n",
    "* mongo-spark https://spark-packages.org/package/mongodb/mongo-spark\n",
    "* pyspark --packages org.mongodb.spark:mongo-spark-connector_2.11:2.4.2\n",
    "    * spark 2.4.7\n",
    "    * scala 2.11.12\n",
    "    * java 1.8\n",
    "    * mongodb 4.4.2\n",
    "\n"
   ]
  },
  {
   "cell_type": "code",
   "execution_count": 1,
   "metadata": {},
   "outputs": [],
   "source": [
    "from pyspark.sql import SparkSession"
   ]
  },
  {
   "cell_type": "code",
   "execution_count": 12,
   "metadata": {},
   "outputs": [],
   "source": [
    "url_test_collection = \"mongodb://localhost/test_db.test_collection\"\n",
    "\n",
    "my_spark = SparkSession \\\n",
    "    .builder \\\n",
    "    .appName(\"myApp\") \\\n",
    "    .config(\"spark.mongodb.input.uri\", url_test_collection) \\\n",
    "    .config(\"spark.mongodb.output.uri\", url_test_collection) \\\n",
    "    .getOrCreate()"
   ]
  },
  {
   "cell_type": "markdown",
   "metadata": {},
   "source": [
    "### Leitura"
   ]
  },
  {
   "cell_type": "code",
   "execution_count": 13,
   "metadata": {},
   "outputs": [
    {
     "data": {
      "text/plain": [
       "pyspark.sql.dataframe.DataFrame"
      ]
     },
     "execution_count": 13,
     "metadata": {},
     "output_type": "execute_result"
    }
   ],
   "source": [
    "dados = spark.read.format(\"com.mongodb.spark.sql.DefaultSource\").load()\n",
    "type(dados)"
   ]
  },
  {
   "cell_type": "code",
   "execution_count": 14,
   "metadata": {},
   "outputs": [
    {
     "name": "stdout",
     "output_type": "stream",
     "text": [
      "root\n",
      " |-- _id: struct (nullable = true)\n",
      " |    |-- oid: string (nullable = true)\n",
      " |-- item: string (nullable = true)\n",
      " |-- qty: double (nullable = true)\n",
      " |-- size: struct (nullable = true)\n",
      " |    |-- h: double (nullable = true)\n",
      " |    |-- w: double (nullable = true)\n",
      " |    |-- uom: string (nullable = true)\n",
      " |-- tags: array (nullable = true)\n",
      " |    |-- element: string (containsNull = true)\n",
      "\n"
     ]
    }
   ],
   "source": [
    "dados.printSchema()"
   ]
  },
  {
   "cell_type": "code",
   "execution_count": 15,
   "metadata": {},
   "outputs": [
    {
     "data": {
      "text/plain": [
       "3"
      ]
     },
     "execution_count": 15,
     "metadata": {},
     "output_type": "execute_result"
    }
   ],
   "source": [
    "dados.count()"
   ]
  },
  {
   "cell_type": "code",
   "execution_count": 16,
   "metadata": {},
   "outputs": [
    {
     "data": {
      "text/plain": [
       "Row(_id=Row(oid='5fef762ea361ebddd011487b'), item='Camisa Polo', qty=25.0, size=Row(h=14.0, w=21.0, uom='cm'), tags=['branco', 'vermelho'])"
      ]
     },
     "execution_count": 16,
     "metadata": {},
     "output_type": "execute_result"
    }
   ],
   "source": [
    "dados.head()"
   ]
  },
  {
   "cell_type": "code",
   "execution_count": 17,
   "metadata": {},
   "outputs": [
    {
     "name": "stdout",
     "output_type": "stream",
     "text": [
      "+--------------------+---------------+----+-----------------+------------------+\n",
      "|                 _id|           item| qty|             size|              tags|\n",
      "+--------------------+---------------+----+-----------------+------------------+\n",
      "|[5fef762ea361ebdd...|    Camisa Polo|25.0| [14.0, 21.0, cm]|[branco, vermelho]|\n",
      "|[5fef762ea361ebdd...|Vestido Bordado|85.0| [27.9, 35.5, cm]|           [cinza]|\n",
      "|[5fef762ea361ebdd...|        Moleton|45.0|[19.0, 22.85, cm]|     [verde, azul]|\n",
      "+--------------------+---------------+----+-----------------+------------------+\n",
      "\n"
     ]
    }
   ],
   "source": [
    "dados.show()"
   ]
  },
  {
   "cell_type": "markdown",
   "metadata": {},
   "source": [
    "### Gravação"
   ]
  },
  {
   "cell_type": "code",
   "execution_count": 19,
   "metadata": {},
   "outputs": [],
   "source": [
    "df = spark.createDataFrame([(\"Camisa T-Shirt\", 50)], [\"item\", \"qty\"])"
   ]
  },
  {
   "cell_type": "code",
   "execution_count": 20,
   "metadata": {},
   "outputs": [
    {
     "data": {
      "text/plain": [
       "Row(item='Camisa T-Shirt', qty=50)"
      ]
     },
     "execution_count": 20,
     "metadata": {},
     "output_type": "execute_result"
    }
   ],
   "source": [
    "df.head()"
   ]
  },
  {
   "cell_type": "code",
   "execution_count": 21,
   "metadata": {},
   "outputs": [
    {
     "name": "stdout",
     "output_type": "stream",
     "text": [
      "+--------------+---+\n",
      "|          item|qty|\n",
      "+--------------+---+\n",
      "|Camisa T-Shirt| 50|\n",
      "+--------------+---+\n",
      "\n"
     ]
    }
   ],
   "source": [
    "df.show()"
   ]
  },
  {
   "cell_type": "code",
   "execution_count": 22,
   "metadata": {},
   "outputs": [
    {
     "data": {
      "text/plain": [
       "[Row(item='Camisa T-Shirt', qty=50)]"
      ]
     },
     "execution_count": 22,
     "metadata": {},
     "output_type": "execute_result"
    }
   ],
   "source": [
    "df.collect()"
   ]
  },
  {
   "cell_type": "code",
   "execution_count": 23,
   "metadata": {},
   "outputs": [
    {
     "name": "stdout",
     "output_type": "stream",
     "text": [
      "+--------------+---+\n",
      "|          item|qty|\n",
      "+--------------+---+\n",
      "|Camisa T-Shirt| 50|\n",
      "+--------------+---+\n",
      "\n"
     ]
    }
   ],
   "source": [
    "df.show(1)"
   ]
  },
  {
   "cell_type": "code",
   "execution_count": 24,
   "metadata": {},
   "outputs": [],
   "source": [
    "df.write.format(\"com.mongodb.spark.sql.DefaultSource\").mode(\"append\").save()"
   ]
  },
  {
   "cell_type": "code",
   "execution_count": 25,
   "metadata": {},
   "outputs": [
    {
     "name": "stdout",
     "output_type": "stream",
     "text": [
      "+--------------------+---------------+----+-----------------+------------------+\n",
      "|                 _id|           item| qty|             size|              tags|\n",
      "+--------------------+---------------+----+-----------------+------------------+\n",
      "|[5fef762ea361ebdd...|    Camisa Polo|25.0| [14.0, 21.0, cm]|[branco, vermelho]|\n",
      "|[5fef762ea361ebdd...|Vestido Bordado|85.0| [27.9, 35.5, cm]|           [cinza]|\n",
      "|[5fef762ea361ebdd...|        Moleton|45.0|[19.0, 22.85, cm]|     [verde, azul]|\n",
      "|[5fef775b5db57b1b...| Camisa T-Shirt|50.0|             null|              null|\n",
      "+--------------------+---------------+----+-----------------+------------------+\n",
      "\n"
     ]
    }
   ],
   "source": [
    "dados.show()"
   ]
  }
 ],
 "metadata": {
  "kernelspec": {
   "display_name": "Python 3",
   "language": "python",
   "name": "python3"
  },
  "language_info": {
   "codemirror_mode": {
    "name": "ipython",
    "version": 3
   },
   "file_extension": ".py",
   "mimetype": "text/x-python",
   "name": "python",
   "nbconvert_exporter": "python",
   "pygments_lexer": "ipython3",
   "version": "3.7.9"
  }
 },
 "nbformat": 4,
 "nbformat_minor": 4
}
