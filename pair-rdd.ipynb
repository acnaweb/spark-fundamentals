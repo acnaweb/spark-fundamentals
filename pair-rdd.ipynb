{
 "cells": [
  {
   "cell_type": "markdown",
   "metadata": {},
   "source": [
    "### Pair RDD\n",
    "* mapValue()\n",
    "* countByKey()\n",
    "* groupByKey()\n",
    "* reduceByKey()\n",
    "* aggregateByKey()\n"
   ]
  },
  {
   "cell_type": "code",
   "execution_count": 1,
   "metadata": {},
   "outputs": [],
   "source": [
    "carros = sc.textFile(\"data/carros.csv\")"
   ]
  },
  {
   "cell_type": "code",
   "execution_count": 2,
   "metadata": {},
   "outputs": [
    {
     "data": {
      "text/plain": [
       "['MAKE,FUELTYPE,ASPIRE,DOORS,BODY,DRIVE,CYLINDERS,HP,RPM,MPG-CITY,MPG-HWY,PRICE',\n",
       " 'subaru,gas,std,two,hatchback,fwd,four,69,4900,31,36,5118',\n",
       " 'chevrolet,gas,std,two,hatchback,fwd,three,48,5100,47,53,5151']"
      ]
     },
     "execution_count": 2,
     "metadata": {},
     "output_type": "execute_result"
    }
   ],
   "source": [
    "carros.take(3)"
   ]
  },
  {
   "cell_type": "code",
   "execution_count": 3,
   "metadata": {},
   "outputs": [
    {
     "data": {
      "text/plain": [
       "[('MAKE', 'HP'), ('subaru', '69'), ('chevrolet', '48')]"
      ]
     },
     "execution_count": 3,
     "metadata": {},
     "output_type": "execute_result"
    }
   ],
   "source": [
    "# criacao de key-value\n",
    "carrosPairRDD = carros.map(lambda x: (x.split(\",\")[0], x.split(\",\")[7]))\n",
    "carrosPairRDD.take(3)"
   ]
  },
  {
   "cell_type": "code",
   "execution_count": 5,
   "metadata": {},
   "outputs": [
    {
     "data": {
      "text/plain": [
       "[('subaru', '69'), ('chevrolet', '48')]"
      ]
     },
     "execution_count": 5,
     "metadata": {},
     "output_type": "execute_result"
    }
   ],
   "source": [
    "# removendo o cabecalho do key-value\n",
    "header = carrosPairRDD.first()\n",
    "carrosPairRDD2 = carrosPairRDD.filter(lambda line: line != header)\n",
    "carrosPairRDD2.take(2)"
   ]
  },
  {
   "cell_type": "code",
   "execution_count": 9,
   "metadata": {},
   "outputs": [
    {
     "data": {
      "text/plain": [
       "[('subaru', (69, 1)), ('chevrolet', (48, 1)), ('mazda', (68, 1))]"
      ]
     },
     "execution_count": 9,
     "metadata": {},
     "output_type": "execute_result"
    }
   ],
   "source": [
    "# adicionando contador quantitativo ao valor = mapeia somente os values da key-value\n",
    "carrosPairRDD3 = carrosPairRDD2.mapValues(lambda x: (int(x), 1))\n",
    "carrosPairRDD3.take(3)"
   ]
  },
  {
   "cell_type": "code",
   "execution_count": 19,
   "metadata": {},
   "outputs": [
    {
     "data": {
      "text/plain": [
       "[('chevrolet', (188, 3)),\n",
       " ('mazda', (1390, 16)),\n",
       " ('mitsubishi', (1353, 13)),\n",
       " ('nissan', (1846, 18)),\n",
       " ('dodge', (675, 8)),\n",
       " ('plymouth', (607, 7)),\n",
       " ('saab', (760, 6)),\n",
       " ('volvo', (1408, 11)),\n",
       " ('alfa-romero', (376, 3)),\n",
       " ('mercedes-benz', (1170, 8)),\n",
       " ('jaguar', (614, 3)),\n",
       " ('subaru', (1035, 12)),\n",
       " ('toyota', (2969, 32)),\n",
       " ('honda', (1043, 13)),\n",
       " ('isuzu', (168, 2)),\n",
       " ('volkswagen', (973, 12)),\n",
       " ('peugot', (1098, 11)),\n",
       " ('audi', (687, 6)),\n",
       " ('bmw', (1111, 8)),\n",
       " ('mercury', (175, 1)),\n",
       " ('porsche', (764, 4))]"
      ]
     },
     "execution_count": 19,
     "metadata": {},
     "output_type": "execute_result"
    }
   ],
   "source": [
    "# reducao[0] = soma de HP = x1[0] + x2[0]\n",
    "# reducao[1] = total de automoveis = x1[1] + x2[1])\n",
    "\n",
    "fabricantes = carrosPairRDD3.reduceByKey(lambda x1, x2: (x1[0] + x2[0], x1[1] + x2[1]))\n",
    "fabricantes.collect()"
   ]
  },
  {
   "cell_type": "code",
   "execution_count": 26,
   "metadata": {},
   "outputs": [
    {
     "data": {
      "text/plain": [
       "[('chevrolet', 63),\n",
       " ('mazda', 87),\n",
       " ('mitsubishi', 104),\n",
       " ('nissan', 103),\n",
       " ('dodge', 84),\n",
       " ('plymouth', 87),\n",
       " ('saab', 127),\n",
       " ('volvo', 128),\n",
       " ('alfa-romero', 125),\n",
       " ('mercedes-benz', 146),\n",
       " ('jaguar', 205),\n",
       " ('subaru', 86),\n",
       " ('toyota', 93),\n",
       " ('honda', 80),\n",
       " ('isuzu', 84),\n",
       " ('volkswagen', 81),\n",
       " ('peugot', 100),\n",
       " ('audi', 114),\n",
       " ('bmw', 139),\n",
       " ('mercury', 175),\n",
       " ('porsche', 191)]"
      ]
     },
     "execution_count": 26,
     "metadata": {},
     "output_type": "execute_result"
    }
   ],
   "source": [
    "# calculando a média de HP por fabricante\n",
    "fabricantes.mapValues(lambda x : round(x[0] / x[1])).collect()"
   ]
  },
  {
   "cell_type": "code",
   "execution_count": null,
   "metadata": {},
   "outputs": [],
   "source": []
  }
 ],
 "metadata": {
  "kernelspec": {
   "display_name": "Python 3",
   "language": "python",
   "name": "python3"
  },
  "language_info": {
   "codemirror_mode": {
    "name": "ipython",
    "version": 3
   },
   "file_extension": ".py",
   "mimetype": "text/x-python",
   "name": "python",
   "nbconvert_exporter": "python",
   "pygments_lexer": "ipython3",
   "version": "3.7.9"
  }
 },
 "nbformat": 4,
 "nbformat_minor": 4
}
