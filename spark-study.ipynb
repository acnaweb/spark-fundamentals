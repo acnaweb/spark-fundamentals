{
 "cells": [
  {
   "cell_type": "code",
   "execution_count": 1,
   "metadata": {},
   "outputs": [
    {
     "name": "stdout",
     "output_type": "stream",
     "text": [
      "3.7.9 (default, Aug 31 2020, 12:42:55) \n",
      "[GCC 7.3.0]\n"
     ]
    }
   ],
   "source": [
    "import sys\n",
    "print(sys.version)"
   ]
  },
  {
   "cell_type": "code",
   "execution_count": 2,
   "metadata": {},
   "outputs": [
    {
     "name": "stdout",
     "output_type": "stream",
     "text": [
      "<SparkContext master=local[*] appName=PySparkShell>\n"
     ]
    }
   ],
   "source": [
    "print(sc)"
   ]
  },
  {
   "cell_type": "code",
   "execution_count": 3,
   "metadata": {},
   "outputs": [
    {
     "name": "stdout",
     "output_type": "stream",
     "text": [
      "2.4.7\n"
     ]
    }
   ],
   "source": [
    "print(sc.version)#"
   ]
  },
  {
   "cell_type": "code",
   "execution_count": 4,
   "metadata": {},
   "outputs": [],
   "source": [
    "lst = [25,90,81,37,776,3320]\n",
    "\n",
    "# paralelizando a lista ao criar um RDD\n",
    "testData = sc.parallelize(lst)"
   ]
  },
  {
   "cell_type": "code",
   "execution_count": 5,
   "metadata": {},
   "outputs": [
    {
     "data": {
      "text/plain": [
       "pyspark.rdd.RDD"
      ]
     },
     "execution_count": 5,
     "metadata": {},
     "output_type": "execute_result"
    }
   ],
   "source": [
    "type(testData)"
   ]
  },
  {
   "cell_type": "code",
   "execution_count": 6,
   "metadata": {},
   "outputs": [
    {
     "data": {
      "text/plain": [
       "6"
      ]
     },
     "execution_count": 6,
     "metadata": {},
     "output_type": "execute_result"
    }
   ],
   "source": [
    "#contando elementos\n",
    "testData.count()"
   ]
  },
  {
   "cell_type": "code",
   "execution_count": 7,
   "metadata": {},
   "outputs": [
    {
     "data": {
      "text/plain": [
       "[25, 90, 81, 37, 776, 3320]"
      ]
     },
     "execution_count": 7,
     "metadata": {},
     "output_type": "execute_result"
    }
   ],
   "source": [
    "#\n",
    "testData.collect()"
   ]
  },
  {
   "cell_type": "markdown",
   "metadata": {},
   "source": [
    "# Executando Aplicação Spark"
   ]
  },
  {
   "cell_type": "code",
   "execution_count": 8,
   "metadata": {},
   "outputs": [],
   "source": [
    "sentimentoRDD = sc.textFile(\"data/sentimentos.csv\")"
   ]
  },
  {
   "cell_type": "code",
   "execution_count": 9,
   "metadata": {},
   "outputs": [
    {
     "data": {
      "text/plain": [
       "pyspark.rdd.RDD"
      ]
     },
     "execution_count": 9,
     "metadata": {},
     "output_type": "execute_result"
    }
   ],
   "source": [
    "type(sentimentoRDD)"
   ]
  },
  {
   "cell_type": "code",
   "execution_count": 10,
   "metadata": {},
   "outputs": [
    {
     "data": {
      "text/plain": [
       "100"
      ]
     },
     "execution_count": 10,
     "metadata": {},
     "output_type": "execute_result"
    }
   ],
   "source": [
    "sentimentoRDD.count()"
   ]
  },
  {
   "cell_type": "code",
   "execution_count": 11,
   "metadata": {},
   "outputs": [
    {
     "data": {
      "text/plain": [
       "['positivo,Esse livro é incrível.',\n",
       " 'positivo,Um dos melhores livros que eu já li.',\n",
       " 'positivo,um dos melhores livros que eu já li',\n",
       " 'positivo,Acho que ele tem um conteúdo que vai além do que está em sua descrição.',\n",
       " 'positivo,O Sol é para todos é profundo e emocionante']"
      ]
     },
     "execution_count": 11,
     "metadata": {},
     "output_type": "execute_result"
    }
   ],
   "source": [
    "# head(5)\n",
    "sentimentoRDD.take(5)"
   ]
  },
  {
   "cell_type": "code",
   "execution_count": 12,
   "metadata": {},
   "outputs": [],
   "source": [
    "# transformacao (mapeamento)\n",
    "transfRDD = sentimentoRDD.map(lambda x : x.upper())"
   ]
  },
  {
   "cell_type": "code",
   "execution_count": 13,
   "metadata": {},
   "outputs": [
    {
     "data": {
      "text/plain": [
       "['POSITIVO,ESSE LIVRO É INCRÍVEL.',\n",
       " 'POSITIVO,UM DOS MELHORES LIVROS QUE EU JÁ LI.',\n",
       " 'POSITIVO,UM DOS MELHORES LIVROS QUE EU JÁ LI',\n",
       " 'POSITIVO,ACHO QUE ELE TEM UM CONTEÚDO QUE VAI ALÉM DO QUE ESTÁ EM SUA DESCRIÇÃO.']"
      ]
     },
     "execution_count": 13,
     "metadata": {},
     "output_type": "execute_result"
    }
   ],
   "source": [
    "transfRDD.take(4)"
   ]
  },
  {
   "cell_type": "code",
   "execution_count": 14,
   "metadata": {},
   "outputs": [],
   "source": [
    "arq = sc.textFile(\"data/sentimentos.csv\")"
   ]
  },
  {
   "cell_type": "code",
   "execution_count": 15,
   "metadata": {},
   "outputs": [
    {
     "data": {
      "text/plain": [
       "data/sentimentos.csv MapPartitionsRDD[8] at textFile at NativeMethodAccessorImpl.java:0"
      ]
     },
     "execution_count": 15,
     "metadata": {},
     "output_type": "execute_result"
    }
   ],
   "source": [
    "arq"
   ]
  },
  {
   "cell_type": "code",
   "execution_count": 16,
   "metadata": {},
   "outputs": [
    {
     "data": {
      "text/plain": [
       "'positivo,Esse livro é incrível.'"
      ]
     },
     "execution_count": 16,
     "metadata": {},
     "output_type": "execute_result"
    }
   ],
   "source": [
    "arq.first()"
   ]
  },
  {
   "cell_type": "code",
   "execution_count": 17,
   "metadata": {},
   "outputs": [],
   "source": [
    "linhas = arq.filter(lambda line : \"Sol\" in line)"
   ]
  },
  {
   "cell_type": "code",
   "execution_count": 18,
   "metadata": {},
   "outputs": [
    {
     "data": {
      "text/plain": [
       "['positivo,O Sol é para todos é profundo e emocionante',\n",
       " 'negativo,Sol para todos é um Livro ruim',\n",
       " 'negativo,O Sol para todos não é para todos.']"
      ]
     },
     "execution_count": 18,
     "metadata": {},
     "output_type": "execute_result"
    }
   ],
   "source": [
    "linhas.take(5)"
   ]
  },
  {
   "cell_type": "code",
   "execution_count": 19,
   "metadata": {},
   "outputs": [
    {
     "data": {
      "text/plain": [
       "27"
      ]
     },
     "execution_count": 19,
     "metadata": {},
     "output_type": "execute_result"
    }
   ],
   "source": [
    "# reduce (reducao)\n",
    "arq.map(lambda line: len(line.split())).reduce(lambda a, b: a if (a>b) else b)\n"
   ]
  },
  {
   "cell_type": "code",
   "execution_count": 20,
   "metadata": {},
   "outputs": [],
   "source": [
    "# alternativa para o reduce\n",
    "def max(a, b):\n",
    "    if a > b :\n",
    "        return a\n",
    "    else:\n",
    "        return b"
   ]
  },
  {
   "cell_type": "code",
   "execution_count": 21,
   "metadata": {},
   "outputs": [
    {
     "data": {
      "text/plain": [
       "27"
      ]
     },
     "execution_count": 21,
     "metadata": {},
     "output_type": "execute_result"
    }
   ],
   "source": [
    "arq.map(lambda line: len(line.split())).reduce(max)\n"
   ]
  },
  {
   "cell_type": "markdown",
   "metadata": {},
   "source": [
    "# Operação de MapReduce"
   ]
  },
  {
   "cell_type": "code",
   "execution_count": 22,
   "metadata": {},
   "outputs": [],
   "source": [
    "contaPalavras = arq.flatMap(lambda line: line.split()) \\\n",
    "    .map(lambda palavra: (palavra, 1)).reduceByKey(lambda a, b: a+b)"
   ]
  },
  {
   "cell_type": "code",
   "execution_count": 23,
   "metadata": {},
   "outputs": [
    {
     "data": {
      "text/plain": [
       "[('livro', 5),\n",
       " ('que', 13),\n",
       " ('li.', 4),\n",
       " ('positivo,um', 3),\n",
       " ('li', 1),\n",
       " ('positivo,Acho', 1),\n",
       " ('tem', 1),\n",
       " ('um', 3),\n",
       " ('vai', 1),\n",
       " ('do', 2),\n",
       " ('em', 1),\n",
       " ('descrição.', 1),\n",
       " ('positivo,O', 2),\n",
       " ('para', 5),\n",
       " ('todos', 4),\n",
       " ('positivo,Me', 1),\n",
       " ('este', 1),\n",
       " ('livro,', 1),\n",
       " ('antigo', 1),\n",
       " ('uma', 4),\n",
       " ('história', 1),\n",
       " ('antiga', 1),\n",
       " ('positivo,The', 6),\n",
       " ('Da', 38),\n",
       " ('Vinci', 45),\n",
       " ('Code', 24),\n",
       " ('is', 17),\n",
       " ('good', 3),\n",
       " ('movie...', 1),\n",
       " ('thought', 2),\n",
       " ('was', 4),\n",
       " ('pretty', 1),\n",
       " ('book.', 4),\n",
       " ('realmente', 1),\n",
       " ('deveria', 1),\n",
       " ('todas', 1),\n",
       " ('as', 1),\n",
       " ('pessoas.', 1),\n",
       " ('an', 6),\n",
       " ('*', 2),\n",
       " ('book', 2),\n",
       " ('turn', 1),\n",
       " ('positivo,Harper', 1),\n",
       " ('aborda', 1),\n",
       " ('muito', 3),\n",
       " ('polêmicos,', 1),\n",
       " ('como', 1),\n",
       " ('Bullying,', 1),\n",
       " ('olhos', 1),\n",
       " ('inocentes', 1),\n",
       " ('positivo,i', 4),\n",
       " ('love', 6),\n",
       " ('da', 13),\n",
       " ('code....', 1),\n",
       " ('loved', 5),\n",
       " ('code..', 2),\n",
       " ('VINCI', 4),\n",
       " ('BEAUTIFUL', 1),\n",
       " ('positivo,THE', 1),\n",
       " ('slash', 1),\n",
       " ('race.', 1),\n",
       " ('positivo,Hey', 1),\n",
       " ('The', 13),\n",
       " ('Code!..', 1),\n",
       " ('positivo,also', 1),\n",
       " ('sobre', 2),\n",
       " ('relação', 1),\n",
       " ('educação', 1),\n",
       " ('pais', 1),\n",
       " ('filhos,', 1),\n",
       " ('fala', 1),\n",
       " ('like', 3),\n",
       " ('Angels', 1),\n",
       " ('Demons', 1),\n",
       " ('more', 2),\n",
       " ('really', 5),\n",
       " ('positivo,Da', 4),\n",
       " ('s', 1),\n",
       " ('positivo,And', 1),\n",
       " ('we', 2),\n",
       " ('awesome.', 2),\n",
       " ('awesome', 6),\n",
       " ('book!', 2),\n",
       " ('positivo,oh', 1),\n",
       " ('code.', 3),\n",
       " ('ripping', 1),\n",
       " ('music', 1),\n",
       " ('cold...', 1),\n",
       " ('[', 1),\n",
       " ('tell', 1),\n",
       " ('anyone', 1),\n",
       " ('but', 3),\n",
       " ('of', 4),\n",
       " ('positivo,Os', 1),\n",
       " ('personagens', 1),\n",
       " ('positivo,omg', 1),\n",
       " ('i', 5),\n",
       " ('falar', 1),\n",
       " ('INCRÍVEL?', 1),\n",
       " ('O', 1),\n",
       " ('sol', 1),\n",
       " ('negativo,da', 2),\n",
       " ('terrible', 1),\n",
       " ('negativo,i', 2),\n",
       " ('movie', 1),\n",
       " ('think', 2),\n",
       " ('this', 2),\n",
       " ('bolsters', 1),\n",
       " ('arguments', 1),\n",
       " ('both', 1),\n",
       " ('know', 2),\n",
       " ('inaccurate.', 1),\n",
       " ('hate', 9),\n",
       " ('negativo,The', 4),\n",
       " ('say', 1),\n",
       " ('evil', 1),\n",
       " ('sucked', 4),\n",
       " ('long', 1),\n",
       " ('slow.....', 1),\n",
       " ('negativo,not', 1),\n",
       " ('sure', 1),\n",
       " ('already', 1),\n",
       " ('threw', 1),\n",
       " ('at', 2),\n",
       " ('negativo,This', 1),\n",
       " ('why', 1),\n",
       " ('Code:', 1),\n",
       " ('pop', 1),\n",
       " ('question', 1),\n",
       " ('congrats', 1),\n",
       " ('beating', 1),\n",
       " ('Jay', 1),\n",
       " ('must', 1),\n",
       " ('Rickards', 1),\n",
       " ('when', 1),\n",
       " ('beat', 1),\n",
       " ('them', 1),\n",
       " ('in', 1),\n",
       " ('balls', 1),\n",
       " ('worst', 1),\n",
       " ('shit', 1),\n",
       " (\"I've\", 1),\n",
       " ('ever', 1),\n",
       " ('God', 1),\n",
       " ('Has', 1),\n",
       " ('told', 1),\n",
       " ('nans', 1),\n",
       " ('before', 1),\n",
       " ('said', 1),\n",
       " (\"'!!\", 1),\n",
       " ('negativo,Sol', 1),\n",
       " ('ruim', 9),\n",
       " ('negativo,Livro', 9),\n",
       " ('negativo,the', 1),\n",
       " ('sucks', 1),\n",
       " ('negativo,\"poderia', 2),\n",
       " ('ter', 2),\n",
       " ('sido', 2),\n",
       " ('melhor\"', 2),\n",
       " ('raso', 1),\n",
       " ('negativo,well', 1),\n",
       " ('SUCKS!!', 1),\n",
       " ('ass', 1),\n",
       " (\"you're\", 1),\n",
       " ('code...', 1),\n",
       " ('esqueci', 1),\n",
       " ('negativo,todos', 1),\n",
       " ('disseram', 1),\n",
       " ('mas', 1),\n",
       " ('achei', 1),\n",
       " ('negativo,abaixo', 1),\n",
       " ('das', 1),\n",
       " ('expectativas', 1),\n",
       " ('negativo,muito', 1),\n",
       " ('gostei.', 1),\n",
       " ('infantil!', 1),\n",
       " ('positivo,Esse', 1),\n",
       " ('é', 6),\n",
       " ('incrível.', 1),\n",
       " ('positivo,Um', 3),\n",
       " ('dos', 5),\n",
       " ('melhores', 5),\n",
       " ('livros', 5),\n",
       " ('eu', 5),\n",
       " ('já', 5),\n",
       " ('ele', 1),\n",
       " ('conteúdo', 2),\n",
       " ('além', 1),\n",
       " ('está', 1),\n",
       " ('sua', 1),\n",
       " ('Sol', 2),\n",
       " ('profundo', 1),\n",
       " ('e', 8),\n",
       " ('emocionante', 1),\n",
       " ('encantei', 1),\n",
       " ('por', 2),\n",
       " ('positivo,Este', 1),\n",
       " ('apesar', 1),\n",
       " ('de', 8),\n",
       " ('com', 1),\n",
       " ('trata', 1),\n",
       " ('época', 1),\n",
       " ('mais', 1),\n",
       " ('ainda,', 1),\n",
       " ('possui', 1),\n",
       " ('atual', 1),\n",
       " ('extrema', 1),\n",
       " ('importância.', 1),\n",
       " ('actually', 1),\n",
       " ('a', 8),\n",
       " ('positivo,I', 8),\n",
       " ('the', 23),\n",
       " ('ser', 1),\n",
       " ('lido', 1),\n",
       " ('amazing', 2),\n",
       " ('positivo,then', 1),\n",
       " ('I', 7),\n",
       " ('on', 2),\n",
       " ('light', 1),\n",
       " ('and', 10),\n",
       " ('radio', 1),\n",
       " ('enjoy', 1),\n",
       " ('my', 2),\n",
       " ('Code.', 12),\n",
       " ('Lee', 1),\n",
       " ('temas', 1),\n",
       " ('o', 3),\n",
       " ('racismo', 1),\n",
       " ('pelos', 1),\n",
       " ('criança', 1),\n",
       " ('7', 1),\n",
       " ('anos.', 1),\n",
       " ('vinci', 17),\n",
       " ('positivo,TO', 1),\n",
       " ('NIGHT::', 1),\n",
       " ('THE', 2),\n",
       " ('DA', 4),\n",
       " ('CODE', 3),\n",
       " ('AND', 1),\n",
       " ('A', 1),\n",
       " ('MIND...', 1),\n",
       " ('AN', 1),\n",
       " ('AWESOME', 1),\n",
       " ('BOOK....', 1),\n",
       " ('positivo,very', 1),\n",
       " ('code', 12),\n",
       " ('positivo,Ele', 1),\n",
       " ('relata', 1),\n",
       " ('respeito,', 1),\n",
       " ('individualidade', 1),\n",
       " ('mais.', 1),\n",
       " ('then', 2),\n",
       " ('movie.', 2),\n",
       " ('amazing.', 1),\n",
       " ('positivo,Book', 1),\n",
       " ('(', 1),\n",
       " ('):', 1),\n",
       " ('Code..', 2),\n",
       " ('went', 1),\n",
       " ('to', 4),\n",
       " ('see', 1),\n",
       " ('awesome!', 1),\n",
       " ('SUCH', 1),\n",
       " ('LOVE', 1),\n",
       " ('CODE...', 1),\n",
       " ('so', 1),\n",
       " ('beautiful', 1),\n",
       " ('Code...', 2),\n",
       " ('miss', 1),\n",
       " ('acoustic', 1),\n",
       " ('positivo,looks', 1),\n",
       " ('amazingly', 1),\n",
       " ('fun', 1),\n",
       " ('possibly', 1),\n",
       " ('bit', 1),\n",
       " (\"don't\", 1),\n",
       " (']', 1),\n",
       " ('course', 1),\n",
       " ('positivo,\"I', 1),\n",
       " ('\"\"', 1),\n",
       " ('Code!\"', 1),\n",
       " ('LOVED', 1),\n",
       " ('positivo,da', 1),\n",
       " ('são', 1),\n",
       " ('maravilhosos...', 1),\n",
       " ('that', 3),\n",
       " ('such', 1),\n",
       " ('desde', 1),\n",
       " ('me', 2),\n",
       " ('conquistou', 1),\n",
       " ('forma', 1),\n",
       " ('pura!', 1),\n",
       " ('boring.', 1),\n",
       " ('negativo,Da', 4),\n",
       " ('does', 1),\n",
       " ('suck.', 2),\n",
       " ('negativo,I', 10),\n",
       " ('England', 1),\n",
       " ('sucks...', 2),\n",
       " ('negativo,And', 2),\n",
       " ('better..-We', 1),\n",
       " ('all', 1),\n",
       " ('bogus', 1),\n",
       " ('you', 3),\n",
       " ('too', 2),\n",
       " ('if', 2),\n",
       " ('because', 1),\n",
       " ('it', 2),\n",
       " ('takes', 1),\n",
       " ('nothing', 1),\n",
       " ('fucking', 2),\n",
       " ('culture', 1),\n",
       " ('phenomenon', 1),\n",
       " ('get', 1),\n",
       " ('people', 1),\n",
       " ('things.', 1),\n",
       " ('did', 1),\n",
       " ('suck', 1),\n",
       " ('been', 1),\n",
       " ('time', 1),\n",
       " ('finals.', 1),\n",
       " ('sucks.', 1),\n",
       " ('hated', 3),\n",
       " ('going', 1),\n",
       " ('sucks..', 1),\n",
       " ('also', 1),\n",
       " (\"it's\", 1),\n",
       " ('piece', 1),\n",
       " ('read.', 1),\n",
       " ('negativo,Thank', 1),\n",
       " ('Someone', 1),\n",
       " ('Sense', 1),\n",
       " ('negativo,RACHEL', 1),\n",
       " ('could', 1),\n",
       " ('your', 1),\n",
       " ('libarian', 1),\n",
       " (\"hated'The\", 1),\n",
       " ('Livro', 1),\n",
       " ('btw..', 1),\n",
       " ('negativo,simples', 1),\n",
       " ('negativo,O', 1),\n",
       " ('não', 2),\n",
       " ('todos.', 1),\n",
       " ('wondering.', 1),\n",
       " ('negativo,about', 1),\n",
       " ('how', 1),\n",
       " ('much', 1),\n",
       " ('absolutely', 1),\n",
       " ('loathe', 1),\n",
       " ('ruim...', 2),\n",
       " ('negativo,já', 1),\n",
       " ('tão', 1),\n",
       " ('foi.', 1),\n",
       " ('era', 1),\n",
       " ('bom,', 1),\n",
       " ('negativo,Não', 1)]"
      ]
     },
     "execution_count": 23,
     "metadata": {},
     "output_type": "execute_result"
    }
   ],
   "source": [
    "contaPalavras.collect()"
   ]
  },
  {
   "cell_type": "markdown",
   "metadata": {},
   "source": [
    "## Transformações"
   ]
  },
  {
   "cell_type": "code",
   "execution_count": 24,
   "metadata": {},
   "outputs": [],
   "source": [
    "lst = [124,901,652,102,397]"
   ]
  },
  {
   "cell_type": "code",
   "execution_count": 25,
   "metadata": {},
   "outputs": [],
   "source": [
    "letRDD = sc.parallelize(lst)"
   ]
  },
  {
   "cell_type": "code",
   "execution_count": 26,
   "metadata": {},
   "outputs": [
    {
     "data": {
      "text/plain": [
       "[124, 901, 652, 102, 397]"
      ]
     },
     "execution_count": 26,
     "metadata": {},
     "output_type": "execute_result"
    }
   ],
   "source": [
    "# elementos da lista\n",
    "letRDD.collect()"
   ]
  },
  {
   "cell_type": "code",
   "execution_count": 27,
   "metadata": {},
   "outputs": [
    {
     "data": {
      "text/plain": [
       "5"
      ]
     },
     "execution_count": 27,
     "metadata": {},
     "output_type": "execute_result"
    }
   ],
   "source": [
    "letRDD.count()"
   ]
  },
  {
   "cell_type": "code",
   "execution_count": 28,
   "metadata": {},
   "outputs": [],
   "source": [
    "autoDataRDD = sc.textFile(\"data/carros.csv\")"
   ]
  },
  {
   "cell_type": "code",
   "execution_count": 29,
   "metadata": {},
   "outputs": [
    {
     "data": {
      "text/plain": [
       "'MAKE,FUELTYPE,ASPIRE,DOORS,BODY,DRIVE,CYLINDERS,HP,RPM,MPG-CITY,MPG-HWY,PRICE'"
      ]
     },
     "execution_count": 29,
     "metadata": {},
     "output_type": "execute_result"
    }
   ],
   "source": [
    "# acao\n",
    "autoDataRDD.first()"
   ]
  },
  {
   "cell_type": "code",
   "execution_count": 30,
   "metadata": {},
   "outputs": [
    {
     "data": {
      "text/plain": [
       "['MAKE,FUELTYPE,ASPIRE,DOORS,BODY,DRIVE,CYLINDERS,HP,RPM,MPG-CITY,MPG-HWY,PRICE',\n",
       " 'subaru,gas,std,two,hatchback,fwd,four,69,4900,31,36,5118',\n",
       " 'chevrolet,gas,std,two,hatchback,fwd,three,48,5100,47,53,5151']"
      ]
     },
     "execution_count": 30,
     "metadata": {},
     "output_type": "execute_result"
    }
   ],
   "source": [
    "# acao\n",
    "autoDataRDD.take(3)"
   ]
  },
  {
   "cell_type": "code",
   "execution_count": 31,
   "metadata": {},
   "outputs": [
    {
     "data": {
      "text/plain": [
       "data/carros.csv MapPartitionsRDD[22] at textFile at NativeMethodAccessorImpl.java:0"
      ]
     },
     "execution_count": 31,
     "metadata": {},
     "output_type": "execute_result"
    }
   ],
   "source": [
    "# colocando em cache\n",
    "autoDataRDD.cache()"
   ]
  },
  {
   "cell_type": "code",
   "execution_count": 32,
   "metadata": {},
   "outputs": [
    {
     "name": "stdout",
     "output_type": "stream",
     "text": [
      "MAKE,FUELTYPE,ASPIRE,DOORS,BODY,DRIVE,CYLINDERS,HP,RPM,MPG-CITY,MPG-HWY,PRICE\n",
      "subaru,gas,std,two,hatchback,fwd,four,69,4900,31,36,5118\n",
      "chevrolet,gas,std,two,hatchback,fwd,three,48,5100,47,53,5151\n",
      "mazda,gas,std,two,hatchback,fwd,four,68,5000,30,31,5195\n",
      "toyota,gas,std,two,hatchback,fwd,four,62,4800,35,39,5348\n"
     ]
    }
   ],
   "source": [
    "for line in autoDataRDD.take(5):\n",
    "    print(line)"
   ]
  },
  {
   "cell_type": "code",
   "execution_count": 33,
   "metadata": {},
   "outputs": [
    {
     "data": {
      "text/plain": [
       "['MAKE\\tFUELTYPE\\tASPIRE\\tDOORS\\tBODY\\tDRIVE\\tCYLINDERS\\tHP\\tRPM\\tMPG-CITY\\tMPG-HWY\\tPRICE',\n",
       " 'subaru\\tgas\\tstd\\ttwo\\thatchback\\tfwd\\tfour\\t69\\t4900\\t31\\t36\\t5118',\n",
       " 'chevrolet\\tgas\\tstd\\ttwo\\thatchback\\tfwd\\tthree\\t48\\t5100\\t47\\t53\\t5151']"
      ]
     },
     "execution_count": 33,
     "metadata": {},
     "output_type": "execute_result"
    }
   ],
   "source": [
    "# Lazy Evaluation\n",
    "# transformacao\n",
    "tavData = autoDataRDD.map(lambda x : x.replace(\",\", \"\\t\"))\n",
    "\n",
    "# acao \n",
    "tavData.take(3)"
   ]
  },
  {
   "cell_type": "code",
   "execution_count": 34,
   "metadata": {},
   "outputs": [
    {
     "data": {
      "text/plain": [
       "'MAKE,FUELTYPE,ASPIRE,DOORS,BODY,DRIVE,CYLINDERS,HP,RPM,MPG-CITY,MPG-HWY,PRICE'"
      ]
     },
     "execution_count": 34,
     "metadata": {},
     "output_type": "execute_result"
    }
   ],
   "source": [
    "autoDataRDD.first()"
   ]
  },
  {
   "cell_type": "code",
   "execution_count": 35,
   "metadata": {},
   "outputs": [],
   "source": [
    "toyotaData = autoDataRDD.filter(lambda x : \"toyota\" in x)\n"
   ]
  },
  {
   "cell_type": "code",
   "execution_count": 36,
   "metadata": {},
   "outputs": [
    {
     "data": {
      "text/plain": [
       "32"
      ]
     },
     "execution_count": 36,
     "metadata": {},
     "output_type": "execute_result"
    }
   ],
   "source": [
    "toyotaData.count()"
   ]
  },
  {
   "cell_type": "code",
   "execution_count": 37,
   "metadata": {},
   "outputs": [
    {
     "data": {
      "text/plain": [
       "['toyota,gas,std,two,hatchback,fwd,four,62,4800,35,39,5348',\n",
       " 'toyota,gas,std,two,hatchback,fwd,four,62,4800,31,38,6338',\n",
       " 'toyota,gas,std,four,hatchback,fwd,four,62,4800,31,38,6488']"
      ]
     },
     "execution_count": 37,
     "metadata": {},
     "output_type": "execute_result"
    }
   ],
   "source": [
    "toyotaData.take(3)"
   ]
  },
  {
   "cell_type": "code",
   "execution_count": 38,
   "metadata": {},
   "outputs": [],
   "source": [
    "# persistindo\n",
    "saveRDD = open(\"data/carros_v2.csv\", \"w\")\n",
    "saveRDD.write(\"\\n\".join(autoDataRDD.collect()))\n",
    "saveRDD.close()"
   ]
  },
  {
   "cell_type": "markdown",
   "metadata": {},
   "source": [
    "### Set"
   ]
  },
  {
   "cell_type": "code",
   "execution_count": 39,
   "metadata": {},
   "outputs": [],
   "source": [
    "words1 = sc.parallelize([\"Big Data\", \"Data Science\", \"Analytics\", \"Visualization\"])\n",
    "words2 = sc.parallelize([\"Big Data\", \"R\", \"Python\", \"Scala\"])"
   ]
  },
  {
   "cell_type": "code",
   "execution_count": 40,
   "metadata": {},
   "outputs": [
    {
     "name": "stdout",
     "output_type": "stream",
     "text": [
      "Big Data\n",
      "Data Science\n",
      "Analytics\n",
      "Visualization\n",
      "Big Data\n",
      "R\n",
      "Python\n",
      "Scala\n"
     ]
    }
   ],
   "source": [
    "# union all\n",
    "for word in words1.union(words2).collect():\n",
    "    print(word)"
   ]
  },
  {
   "cell_type": "code",
   "execution_count": 41,
   "metadata": {},
   "outputs": [
    {
     "name": "stdout",
     "output_type": "stream",
     "text": [
      "Data Science\n",
      "R\n",
      "Analytics\n",
      "Visualization\n",
      "Scala\n",
      "Big Data\n",
      "Python\n"
     ]
    }
   ],
   "source": [
    "# union \n",
    "for word in words1.union(words2).distinct().collect():\n",
    "    print(word)"
   ]
  },
  {
   "cell_type": "code",
   "execution_count": 42,
   "metadata": {},
   "outputs": [
    {
     "name": "stdout",
     "output_type": "stream",
     "text": [
      "Big Data\n"
     ]
    }
   ],
   "source": [
    "# intersection\n",
    "for word in words1.intersection(words2).collect():\n",
    "    print(word)"
   ]
  },
  {
   "cell_type": "code",
   "execution_count": 43,
   "metadata": {},
   "outputs": [
    {
     "data": {
      "text/plain": [
       "[1, 2, 3, 4, 5, 6, 7, 8, 9, 10, 11, 12, 13, 14, 15, 16, 17, 18, 19, 20]"
      ]
     },
     "execution_count": 43,
     "metadata": {},
     "output_type": "execute_result"
    }
   ],
   "source": [
    "# union all\n",
    "rdd01 = sc.parallelize(range(1,10))\n",
    "rdd02 = sc.parallelize(range(10,21))\n",
    "rdd01.union(rdd02).collect()"
   ]
  },
  {
   "cell_type": "code",
   "execution_count": 44,
   "metadata": {},
   "outputs": [
    {
     "data": {
      "text/plain": [
       "[5, 6, 7, 8, 9]"
      ]
     },
     "execution_count": 44,
     "metadata": {},
     "output_type": "execute_result"
    }
   ],
   "source": [
    "# intersection\n",
    "rdd01 = sc.parallelize(range(1,10))\n",
    "rdd02 = sc.parallelize(range(5,15))\n",
    "rdd01.intersection(rdd02).collect()"
   ]
  },
  {
   "cell_type": "markdown",
   "metadata": {},
   "source": [
    "### Joins"
   ]
  },
  {
   "cell_type": "code",
   "execution_count": 45,
   "metadata": {},
   "outputs": [],
   "source": [
    "names1 = sc.parallelize([\"banana\", \"uva\", \"laranja\"]).map(lambda a: (a, 1))\n",
    "names2 = sc.parallelize([\"laranja\", \"abacaxi\", \"manga\"]).map(lambda a: (a, 1))\n"
   ]
  },
  {
   "cell_type": "code",
   "execution_count": 46,
   "metadata": {},
   "outputs": [
    {
     "data": {
      "text/plain": [
       "[('banana', 1), ('uva', 1), ('laranja', 1)]"
      ]
     },
     "execution_count": 46,
     "metadata": {},
     "output_type": "execute_result"
    }
   ],
   "source": [
    "names1.collect()"
   ]
  },
  {
   "cell_type": "code",
   "execution_count": 47,
   "metadata": {},
   "outputs": [
    {
     "data": {
      "text/plain": [
       "[('laranja', (1, 1))]"
      ]
     },
     "execution_count": 47,
     "metadata": {},
     "output_type": "execute_result"
    }
   ],
   "source": [
    "# join por chave\n",
    "names1.join(names2).collect()"
   ]
  },
  {
   "cell_type": "code",
   "execution_count": 48,
   "metadata": {},
   "outputs": [
    {
     "data": {
      "text/plain": [
       "[('uva', (1, None)), ('banana', (1, None)), ('laranja', (1, 1))]"
      ]
     },
     "execution_count": 48,
     "metadata": {},
     "output_type": "execute_result"
    }
   ],
   "source": [
    "# left join \n",
    "names1.leftOuterJoin(names2).collect()"
   ]
  },
  {
   "cell_type": "code",
   "execution_count": 49,
   "metadata": {},
   "outputs": [
    {
     "data": {
      "text/plain": [
       "[('manga', (None, 1)), ('laranja', (1, 1)), ('abacaxi', (None, 1))]"
      ]
     },
     "execution_count": 49,
     "metadata": {},
     "output_type": "execute_result"
    }
   ],
   "source": [
    "# right join \n",
    "names1.rightOuterJoin(names2).collect()"
   ]
  },
  {
   "cell_type": "markdown",
   "metadata": {},
   "source": [
    "### Distinct"
   ]
  },
  {
   "cell_type": "code",
   "execution_count": 50,
   "metadata": {},
   "outputs": [
    {
     "name": "stdout",
     "output_type": "stream",
     "text": [
      "124\n",
      "652\n",
      "901\n",
      "397\n",
      "102\n"
     ]
    }
   ],
   "source": [
    "lst = [124,901,652,102,397,124,901,652]\n",
    "letRDD = sc.parallelize(lst)\n",
    "for num in letRDD.distinct().collect():\n",
    "    print(num)"
   ]
  },
  {
   "cell_type": "markdown",
   "metadata": {},
   "source": [
    "### Transformação e Limpeza"
   ]
  },
  {
   "cell_type": "code",
   "execution_count": 51,
   "metadata": {},
   "outputs": [],
   "source": [
    "def limpar_rdd(autoStr):\n",
    "    \n",
    "    lst = autoStr.split(\",\")\n",
    "    \n",
    "    if lst[3] == \"two\":\n",
    "        lst[3] = \"4\"\n",
    "    elif lst[3] == \"four\":\n",
    "        lst[3] = \"4\"\n",
    "    lst[4] = lst[4].upper()\n",
    "    \n",
    "    return \",\".join(lst)\n"
   ]
  },
  {
   "cell_type": "code",
   "execution_count": 52,
   "metadata": {},
   "outputs": [
    {
     "data": {
      "text/plain": [
       "['MAKE,FUELTYPE,ASPIRE,DOORS,BODY,DRIVE,CYLINDERS,HP,RPM,MPG-CITY,MPG-HWY,PRICE',\n",
       " 'subaru,gas,std,4,HATCHBACK,fwd,four,69,4900,31,36,5118',\n",
       " 'chevrolet,gas,std,4,HATCHBACK,fwd,three,48,5100,47,53,5151']"
      ]
     },
     "execution_count": 52,
     "metadata": {},
     "output_type": "execute_result"
    }
   ],
   "source": [
    "rdd_limpo = autoDataRDD.map(limpar_rdd)\n",
    "rdd_limpo.take(3)"
   ]
  },
  {
   "cell_type": "markdown",
   "metadata": {},
   "source": [
    "### Ações"
   ]
  },
  {
   "cell_type": "code",
   "execution_count": 53,
   "metadata": {},
   "outputs": [],
   "source": [
    "lst = [126,901,652,102,397,124,901,652]\n",
    "lstRDD = sc.parallelize(lst)"
   ]
  },
  {
   "cell_type": "code",
   "execution_count": 54,
   "metadata": {},
   "outputs": [
    {
     "data": {
      "text/plain": [
       "[126, 901, 652, 102, 397, 124, 901, 652]"
      ]
     },
     "execution_count": 54,
     "metadata": {},
     "output_type": "execute_result"
    }
   ],
   "source": [
    "lstRDD.collect()"
   ]
  },
  {
   "cell_type": "code",
   "execution_count": 55,
   "metadata": {},
   "outputs": [
    {
     "data": {
      "text/plain": [
       "3855"
      ]
     },
     "execution_count": 55,
     "metadata": {},
     "output_type": "execute_result"
    }
   ],
   "source": [
    "lstRDD.reduce(lambda x, y: x + y)"
   ]
  },
  {
   "cell_type": "code",
   "execution_count": 56,
   "metadata": {},
   "outputs": [
    {
     "data": {
      "text/plain": [
       "'bmw,gas,std,two,sedan,rwd,six,182,5400,16,22,41315'"
      ]
     },
     "execution_count": 56,
     "metadata": {},
     "output_type": "execute_result"
    }
   ],
   "source": [
    "# a linha com menor tamanho de caracteres\n",
    "autoDataRDD.reduce(lambda x, y: x if len(x) < len(y) else y)"
   ]
  },
  {
   "cell_type": "code",
   "execution_count": 66,
   "metadata": {},
   "outputs": [],
   "source": [
    "def getMPG(autoStr):\n",
    "    if isinstance(autoStr, int):\n",
    "        return autoStr\n",
    "    \n",
    "    lst = autoStr.split(\",\")\n",
    "    \n",
    "    if lst[9].isdigit():\n",
    "        return int(lst[9])\n",
    "    else:\n",
    "        return 0"
   ]
  },
  {
   "cell_type": "code",
   "execution_count": 67,
   "metadata": {},
   "outputs": [
    {
     "data": {
      "text/plain": [
       "25.15"
      ]
     },
     "execution_count": 67,
     "metadata": {},
     "output_type": "execute_result"
    }
   ],
   "source": [
    "media_mpg = round(autoDataRDD.reduce(lambda x, y: getMPG(x) + getMPG(y)) /  (autoDataRDD.count()-1), 2)\n",
    "media_mpg"
   ]
  },
  {
   "cell_type": "code",
   "execution_count": 68,
   "metadata": {},
   "outputs": [],
   "source": [
    "times = sc.parallelize([\"Flamengo\", \"Vasco\", \"Botafogo\", \"Fluminense\", \"Palmeiras\", \"Bahia\"])"
   ]
  },
  {
   "cell_type": "code",
   "execution_count": 71,
   "metadata": {},
   "outputs": [
    {
     "data": {
      "text/plain": [
       "['Bahia', 'Vasco', 'Vasco']"
      ]
     },
     "execution_count": 71,
     "metadata": {},
     "output_type": "execute_result"
    }
   ],
   "source": [
    " times.takeSample(True, 3)"
   ]
  },
  {
   "cell_type": "code",
   "execution_count": 72,
   "metadata": {},
   "outputs": [],
   "source": [
    "times = sc.parallelize([\"Flamengo\", \"Vasco\", \"Botafogo\", \"Fluminense\", \"Palmeiras\", \"Bahia\", \"Bahia\", \"Flamengo\"])"
   ]
  },
  {
   "cell_type": "code",
   "execution_count": 75,
   "metadata": {},
   "outputs": [
    {
     "data": {
      "text/plain": [
       "dict_items([('Flamengo', 2), ('Vasco', 1), ('Botafogo', 1), ('Fluminense', 1), ('Palmeiras', 1), ('Bahia', 2)])"
      ]
     },
     "execution_count": 75,
     "metadata": {},
     "output_type": "execute_result"
    }
   ],
   "source": [
    "times.map(lambda x: (x, 1)).countByKey().items()"
   ]
  },
  {
   "cell_type": "code",
   "execution_count": 76,
   "metadata": {},
   "outputs": [],
   "source": [
    "times.saveAsTextFile(\"data/equipes.txt\")"
   ]
  },
  {
   "cell_type": "code",
   "execution_count": 77,
   "metadata": {},
   "outputs": [],
   "source": [
    "autoDataRDD.saveAsTextFile(\"data/autoDataRDD.txt\")"
   ]
  }
 ],
 "metadata": {
  "kernelspec": {
   "display_name": "Python 3",
   "language": "python",
   "name": "python3"
  },
  "language_info": {
   "codemirror_mode": {
    "name": "ipython",
    "version": 3
   },
   "file_extension": ".py",
   "mimetype": "text/x-python",
   "name": "python",
   "nbconvert_exporter": "python",
   "pygments_lexer": "ipython3",
   "version": "3.7.9"
  }
 },
 "nbformat": 4,
 "nbformat_minor": 4
}
