{
 "cells": [
  {
   "cell_type": "markdown",
   "metadata": {},
   "source": [
    "# Spark SQL\n",
    "* spark-packages.org"
   ]
  },
  {
   "cell_type": "code",
   "execution_count": 1,
   "metadata": {},
   "outputs": [],
   "source": [
    "from pyspark.sql import SparkSession\n",
    "from pyspark.sql import SQLContext\n",
    "from pyspark.sql import Row"
   ]
  },
  {
   "cell_type": "code",
   "execution_count": 2,
   "metadata": {},
   "outputs": [
    {
     "name": "stdout",
     "output_type": "stream",
     "text": [
      "<SparkContext master=local[*] appName=PySparkShell>\n"
     ]
    }
   ],
   "source": [
    "print(sc)"
   ]
  },
  {
   "cell_type": "code",
   "execution_count": 3,
   "metadata": {},
   "outputs": [],
   "source": [
    "spSession = SparkSession.builder.master(\"local\").appName(\"DS-SparkSQL\").getOrCreate()"
   ]
  },
  {
   "cell_type": "code",
   "execution_count": 4,
   "metadata": {},
   "outputs": [
    {
     "data": {
      "text/html": [
       "\n",
       "            <div>\n",
       "                <p><b>SparkSession - hive</b></p>\n",
       "                \n",
       "        <div>\n",
       "            <p><b>SparkContext</b></p>\n",
       "\n",
       "            <p><a href=\"http://192.168.15.19:4042\">Spark UI</a></p>\n",
       "\n",
       "            <dl>\n",
       "              <dt>Version</dt>\n",
       "                <dd><code>v2.4.7</code></dd>\n",
       "              <dt>Master</dt>\n",
       "                <dd><code>local[*]</code></dd>\n",
       "              <dt>AppName</dt>\n",
       "                <dd><code>PySparkShell</code></dd>\n",
       "            </dl>\n",
       "        </div>\n",
       "        \n",
       "            </div>\n",
       "        "
      ],
      "text/plain": [
       "<pyspark.sql.session.SparkSession at 0x7fe66ae37550>"
      ]
     },
     "execution_count": 4,
     "metadata": {},
     "output_type": "execute_result"
    }
   ],
   "source": [
    "spSession"
   ]
  },
  {
   "cell_type": "code",
   "execution_count": 5,
   "metadata": {},
   "outputs": [],
   "source": [
    "sqlContext = SQLContext(sc)"
   ]
  },
  {
   "cell_type": "code",
   "execution_count": 6,
   "metadata": {},
   "outputs": [
    {
     "data": {
      "text/plain": [
       "<pyspark.sql.context.SQLContext at 0x7fe669dd1590>"
      ]
     },
     "execution_count": 6,
     "metadata": {},
     "output_type": "execute_result"
    }
   ],
   "source": [
    "sqlContext"
   ]
  },
  {
   "cell_type": "code",
   "execution_count": 7,
   "metadata": {},
   "outputs": [],
   "source": [
    "linhasRDD1 = sc.textFile(\"data/carros.csv\")"
   ]
  },
  {
   "cell_type": "code",
   "execution_count": 8,
   "metadata": {},
   "outputs": [
    {
     "data": {
      "text/plain": [
       "198"
      ]
     },
     "execution_count": 8,
     "metadata": {},
     "output_type": "execute_result"
    }
   ],
   "source": [
    "linhasRDD1.count()"
   ]
  },
  {
   "cell_type": "code",
   "execution_count": 9,
   "metadata": {},
   "outputs": [],
   "source": [
    "linhasRDD2 = linhasRDD1.filter(lambda x: 'FUELTYPE' not in x)"
   ]
  },
  {
   "cell_type": "code",
   "execution_count": 10,
   "metadata": {},
   "outputs": [
    {
     "data": {
      "text/plain": [
       "197"
      ]
     },
     "execution_count": 10,
     "metadata": {},
     "output_type": "execute_result"
    }
   ],
   "source": [
    "linhasRDD2.count()"
   ]
  },
  {
   "cell_type": "code",
   "execution_count": 11,
   "metadata": {},
   "outputs": [
    {
     "data": {
      "text/plain": [
       "['subaru,gas,std,two,hatchback,fwd,four,69,4900,31,36,5118',\n",
       " 'chevrolet,gas,std,two,hatchback,fwd,three,48,5100,47,53,5151',\n",
       " 'mazda,gas,std,two,hatchback,fwd,four,68,5000,30,31,5195',\n",
       " 'toyota,gas,std,two,hatchback,fwd,four,62,4800,35,39,5348',\n",
       " 'mitsubishi,gas,std,two,hatchback,fwd,four,68,5500,37,41,5389',\n",
       " 'honda,gas,std,two,hatchback,fwd,four,60,5500,38,42,5399',\n",
       " 'nissan,gas,std,two,sedan,fwd,four,69,5200,31,37,5499',\n",
       " 'dodge,gas,std,two,hatchback,fwd,four,68,5500,37,41,5572',\n",
       " 'plymouth,gas,std,two,hatchback,fwd,four,68,5500,37,41,5572',\n",
       " 'mazda,gas,std,two,hatchback,fwd,four,68,5000,31,38,6095',\n",
       " 'mitsubishi,gas,std,two,hatchback,fwd,four,68,5500,31,38,6189',\n",
       " 'dodge,gas,std,four,hatchback,fwd,four,68,5500,31,38,6229',\n",
       " 'plymouth,gas,std,four,hatchback,fwd,four,68,5500,31,38,6229',\n",
       " 'chevrolet,gas,std,two,hatchback,fwd,four,70,5400,38,43,6295',\n",
       " 'toyota,gas,std,two,hatchback,fwd,four,62,4800,31,38,6338',\n",
       " 'dodge,gas,std,two,hatchback,fwd,four,68,5500,31,38,6377',\n",
       " 'honda,gas,std,two,hatchback,fwd,four,58,4800,49,54,6479',\n",
       " 'toyota,gas,std,four,hatchback,fwd,four,62,4800,31,38,6488',\n",
       " 'honda,gas,std,two,hatchback,fwd,four,76,6000,30,34,6529',\n",
       " 'chevrolet,gas,std,four,sedan,fwd,four,70,5400,38,43,6575',\n",
       " 'nissan,gas,std,two,sedan,fwd,four,69,5200,31,37,6649',\n",
       " 'mitsubishi,gas,std,two,hatchback,fwd,four,68,5500,31,38,6669',\n",
       " 'dodge,gas,std,four,sedan,fwd,four,68,5500,31,38,6692',\n",
       " 'plymouth,gas,std,four,sedan,fwd,four,68,5500,31,38,6692',\n",
       " 'mazda,gas,std,four,sedan,fwd,four,68,5000,31,38,6695',\n",
       " 'isuzu,gas,std,four,sedan,rwd,four,78,4800,24,29,6785',\n",
       " 'mazda,gas,std,two,hatchback,fwd,four,68,5000,31,38,6795',\n",
       " 'nissan,gas,std,four,sedan,fwd,four,69,5200,31,37,6849',\n",
       " 'honda,gas,std,two,hatchback,fwd,four,76,6000,31,38,6855',\n",
       " 'toyota,gas,std,four,wagon,fwd,four,62,4800,31,37,6918',\n",
       " 'toyota,gas,std,four,sedan,fwd,four,70,4800,30,37,6938',\n",
       " 'mitsubishi,gas,std,four,sedan,fwd,four,88,5000,25,32,6989',\n",
       " 'subaru,gas,std,two,hatchback,fwd,four,73,4400,26,31,7053',\n",
       " 'nissan,diesel,std,two,sedan,fwd,four,55,4800,45,50,7099',\n",
       " 'subaru,gas,std,four,sedan,fwd,four,82,4800,32,37,7126',\n",
       " 'honda,gas,std,two,hatchback,fwd,four,76,6000,30,34,7129',\n",
       " 'toyota,gas,std,four,hatchback,fwd,four,70,4800,30,37,7198',\n",
       " 'honda,gas,std,four,sedan,fwd,four,76,6000,30,34,7295',\n",
       " 'honda,gas,std,four,wagon,fwd,four,76,6000,30,34,7295',\n",
       " 'nissan,gas,std,two,sedan,fwd,four,69,5200,31,37,7299',\n",
       " 'nissan,gas,std,four,wagon,fwd,four,69,5200,31,37,7349',\n",
       " 'mazda,gas,std,four,sedan,fwd,four,68,5000,31,38,7395',\n",
       " 'subaru,gas,std,four,wagon,fwd,four,82,4800,28,32,7463',\n",
       " 'nissan,gas,std,four,sedan,fwd,four,69,5200,31,37,7499',\n",
       " 'subaru,gas,std,two,hatchback,4wd,four,73,4400,26,31,7603',\n",
       " 'dodge,gas,std,four,sedan,fwd,four,68,5500,31,38,7609',\n",
       " 'plymouth,gas,std,four,sedan,fwd,four,68,5500,31,38,7609',\n",
       " 'mitsubishi,gas,turbo,two,hatchback,fwd,four,102,5500,24,30,7689',\n",
       " 'toyota,gas,std,four,sedan,fwd,four,70,4800,38,47,7738',\n",
       " 'subaru,gas,std,four,sedan,fwd,four,82,4400,28,33,7775',\n",
       " 'volkswagen,diesel,std,two,sedan,fwd,four,52,4800,37,46,7775',\n",
       " 'toyota,diesel,std,four,hatchback,fwd,four,56,4500,38,47,7788',\n",
       " 'nissan,gas,std,two,hatchback,fwd,four,69,5200,31,37,7799',\n",
       " 'honda,gas,std,two,hatchback,fwd,four,86,5800,27,33,7895',\n",
       " 'toyota,gas,std,four,wagon,4wd,four,62,4800,27,32,7898',\n",
       " 'toyota,diesel,std,four,sedan,fwd,four,56,4500,34,36,7898',\n",
       " 'dodge,gas,turbo,two,hatchback,fwd,four,102,5500,24,30,7957',\n",
       " 'plymouth,gas,turbo,two,hatchback,fwd,four,102,5500,24,30,7957',\n",
       " 'volkswagen,gas,std,two,sedan,fwd,four,85,5250,27,34,7975',\n",
       " 'volkswagen,diesel,std,four,sedan,fwd,four,52,4800,37,46,7995',\n",
       " 'nissan,gas,std,four,wagon,fwd,four,69,5200,31,37,7999',\n",
       " 'subaru,gas,std,four,wagon,4wd,four,82,4800,23,29,8013',\n",
       " 'toyota,gas,std,two,sedan,rwd,four,70,4800,29,34,8058',\n",
       " 'mitsubishi,gas,std,four,sedan,fwd,four,88,5000,25,32,8189',\n",
       " 'volkswagen,gas,std,four,sedan,fwd,four,85,5250,27,34,8195',\n",
       " 'toyota,gas,std,two,hatchback,rwd,four,70,4800,29,34,8238',\n",
       " 'nissan,gas,std,two,hardtop,fwd,four,69,5200,31,37,8249',\n",
       " 'toyota,gas,std,four,hatchback,fwd,four,70,4800,28,34,8358',\n",
       " 'toyota,gas,std,two,hardtop,rwd,four,116,4800,24,30,8449',\n",
       " 'mazda,gas,std,four,sedan,fwd,four,84,4800,26,32,8495',\n",
       " 'volkswagen,gas,std,four,sedan,fwd,four,85,5250,27,34,8495',\n",
       " 'mitsubishi,gas,std,two,hatchback,fwd,four,88,5000,25,32,8499',\n",
       " 'toyota,gas,std,four,wagon,4wd,four,62,4800,27,32,8778',\n",
       " 'honda,gas,std,four,sedan,fwd,four,86,5800,27,33,8845',\n",
       " 'mazda,gas,std,two,hatchback,fwd,four,84,4800,26,32,8845',\n",
       " 'dodge,gas,std,four,wagon,fwd,four,88,5000,24,30,8921',\n",
       " 'plymouth,gas,std,four,wagon,fwd,four,88,5000,24,30,8921',\n",
       " 'toyota,gas,std,four,sedan,fwd,four,92,4200,29,34,8948',\n",
       " 'nissan,gas,std,four,hatchback,fwd,four,97,5200,27,34,8949',\n",
       " 'honda,gas,std,two,hatchback,fwd,four,86,5800,27,33,9095',\n",
       " 'subaru,gas,std,four,sedan,4wd,four,82,4800,24,25,9233',\n",
       " 'toyota,gas,std,four,sedan,fwd,four,70,4800,28,34,9258',\n",
       " 'mitsubishi,gas,turbo,four,sedan,fwd,four,116,5500,23,30,9279',\n",
       " 'mitsubishi,gas,std,four,sedan,fwd,four,116,5500,23,30,9279',\n",
       " 'toyota,gas,std,two,sedan,rwd,four,112,6600,26,29,9298',\n",
       " 'volkswagen,diesel,turbo,four,sedan,fwd,four,68,4500,37,42,9495',\n",
       " 'toyota,gas,std,two,hatchback,rwd,four,112,6600,26,29,9538',\n",
       " 'nissan,gas,std,four,sedan,fwd,four,97,5200,27,34,9549',\n",
       " 'toyota,gas,std,two,hardtop,rwd,four,116,4800,24,30,9639',\n",
       " 'mitsubishi,gas,turbo,two,hatchback,fwd,four,116,5500,23,30,9959',\n",
       " 'subaru,gas,std,four,sedan,fwd,four,94,5200,26,32,9960',\n",
       " 'volkswagen,gas,std,two,hatchback,fwd,four,90,5500,24,29,9980',\n",
       " 'toyota,gas,std,four,hatchback,fwd,four,92,4200,27,32,9988',\n",
       " 'toyota,gas,std,two,hatchback,rwd,four,116,4800,24,30,9989',\n",
       " 'volkswagen,gas,std,four,sedan,fwd,four,100,5500,26,32,9995',\n",
       " 'subaru,gas,std,four,wagon,fwd,four,94,5200,25,31,10198',\n",
       " 'mazda,gas,std,four,sedan,fwd,four,84,4800,26,32,10245',\n",
       " 'honda,gas,std,four,sedan,fwd,four,86,5800,27,33,10295',\n",
       " 'honda,gas,std,two,sedan,fwd,four,100,5500,25,31,10345',\n",
       " 'mazda,gas,std,two,hatchback,fwd,four,84,4800,26,32,10595',\n",
       " 'toyota,diesel,turbo,four,sedan,fwd,four,73,4500,30,33,10698',\n",
       " 'toyota,gas,std,four,sedan,fwd,four,92,4200,27,32,10898',\n",
       " 'mazda,gas,std,two,hatchback,rwd,two,101,6000,17,23,10945',\n",
       " 'isuzu,gas,std,two,hatchback,rwd,four,90,5000,24,29,11048',\n",
       " 'toyota,gas,std,two,hardtop,rwd,four,116,4800,24,30,11199',\n",
       " 'mazda,gas,std,four,hatchback,fwd,four,84,4800,26,32,11245',\n",
       " 'toyota,gas,std,four,hatchback,fwd,four,92,4200,27,32,11248',\n",
       " 'subaru,gas,turbo,four,sedan,4wd,four,111,4800,24,29,11259',\n",
       " 'toyota,gas,std,two,hatchback,rwd,four,116,4800,24,30,11549',\n",
       " 'volkswagen,gas,std,two,convertible,fwd,four,90,5500,24,29,11595',\n",
       " 'subaru,gas,turbo,four,wagon,4wd,four,111,4800,23,23,11694',\n",
       " 'mazda,gas,std,two,hatchback,rwd,two,101,6000,17,23,11845',\n",
       " 'saab,gas,std,two,hatchback,fwd,four,110,5250,21,28,11850',\n",
       " 'peugot,gas,std,four,sedan,rwd,four,97,5000,19,24,11900',\n",
       " 'saab,gas,std,four,sedan,fwd,four,110,5250,21,28,12170',\n",
       " 'volkswagen,gas,std,four,wagon,fwd,four,88,5500,25,31,12290',\n",
       " 'peugot,gas,std,four,wagon,rwd,four,97,5000,19,24,12440',\n",
       " 'mitsubishi,gas,turbo,two,hatchback,fwd,four,145,5000,19,24,12629',\n",
       " 'plymouth,gas,turbo,two,hatchback,rwd,four,145,5000,19,24,12764',\n",
       " 'volvo,gas,std,four,sedan,rwd,four,114,5400,23,28,12940',\n",
       " 'honda,gas,std,four,sedan,fwd,four,101,5800,24,28,12945',\n",
       " 'dodge,gas,turbo,two,hatchback,fwd,four,145,5000,19,24,12964',\n",
       " 'peugot,diesel,turbo,four,sedan,rwd,four,95,4150,28,33,13200',\n",
       " 'volkswagen,gas,std,four,sedan,fwd,five,110,5500,19,24,13295',\n",
       " 'volvo,gas,std,four,wagon,rwd,four,114,5400,23,28,13415',\n",
       " 'alfa-romero,gas,std,two,convertible,rwd,four,111,5000,21,27,13495',\n",
       " 'nissan,gas,std,four,sedan,fwd,six,152,5200,17,22,13499',\n",
       " 'nissan,gas,std,four,sedan,fwd,six,152,5200,19,25,13499',\n",
       " 'mazda,gas,std,two,hatchback,rwd,two,101,6000,17,23,13645',\n",
       " 'volkswagen,diesel,turbo,four,sedan,fwd,four,68,4500,33,38,13845',\n",
       " 'peugot,diesel,turbo,four,wagon,rwd,four,95,4150,25,25,13860',\n",
       " 'audi,gas,std,four,sedan,fwd,four,102,5500,24,30,13950',\n",
       " 'nissan,gas,std,four,wagon,fwd,six,152,5200,17,22,14399',\n",
       " 'mitsubishi,gas,turbo,two,hatchback,fwd,four,145,5000,19,24,14489',\n",
       " 'mitsubishi,gas,turbo,two,hatchback,fwd,four,145,5000,19,24,14869',\n",
       " 'saab,gas,std,two,hatchback,fwd,four,110,5250,21,28,15040',\n",
       " 'audi,gas,std,two,sedan,fwd,five,110,5500,19,25,15250',\n",
       " 'saab,gas,std,four,sedan,fwd,four,110,5250,21,28,15510',\n",
       " 'peugot,gas,std,four,sedan,rwd,four,95,5000,19,24,15580',\n",
       " 'mazda,gas,std,two,hatchback,rwd,two,135,6000,16,23,15645',\n",
       " 'toyota,gas,std,four,sedan,rwd,six,156,5200,20,24,15690',\n",
       " 'toyota,gas,std,four,wagon,rwd,six,156,5200,19,24,15750',\n",
       " 'volvo,gas,std,four,sedan,rwd,four,114,5400,24,28,15985',\n",
       " 'toyota,gas,std,two,hatchback,rwd,six,161,5200,19,24,15998',\n",
       " 'bmw,gas,std,two,sedan,rwd,four,101,5800,23,29,16430',\n",
       " 'alfa-romero,gas,std,two,convertible,rwd,four,111,5000,21,27,16500',\n",
       " 'alfa-romero,gas,std,two,hatchback,rwd,six,154,5000,19,26,16500',\n",
       " 'mercury,gas,turbo,two,hatchback,rwd,four,175,5000,19,24,16503',\n",
       " 'volvo,gas,std,four,wagon,rwd,four,114,5400,24,28,16515',\n",
       " 'toyota,gas,std,two,hatchback,rwd,six,161,5200,20,24,16558',\n",
       " 'peugot,gas,std,four,sedan,rwd,four,97,5000,19,24,16630',\n",
       " 'peugot,gas,std,four,wagon,rwd,four,95,5000,19,24,16695',\n",
       " 'volvo,gas,std,four,sedan,rwd,four,114,5400,23,28,16845',\n",
       " 'peugot,diesel,turbo,four,sedan,rwd,four,95,4150,28,33,16900',\n",
       " 'bmw,gas,std,four,sedan,rwd,four,101,5800,23,29,16925',\n",
       " 'peugot,diesel,turbo,four,wagon,rwd,four,95,4150,25,25,17075',\n",
       " 'nissan,gas,std,two,hatchback,rwd,six,160,5200,19,25,17199',\n",
       " 'audi,gas,std,four,sedan,4wd,five,115,5500,18,22,17450',\n",
       " 'toyota,gas,std,two,convertible,rwd,four,116,4800,24,30,17669',\n",
       " 'audi,gas,std,four,sedan,fwd,five,110,5500,19,25,17710',\n",
       " 'peugot,diesel,turbo,four,sedan,rwd,four,95,4150,28,33,17950',\n",
       " 'peugot,gas,turbo,four,sedan,rwd,four,142,5600,18,24,18150',\n",
       " 'saab,gas,turbo,two,hatchback,fwd,four,160,5500,19,26,18150',\n",
       " 'mazda,gas,std,four,sedan,rwd,four,120,5000,19,27,18280',\n",
       " 'mazda,diesel,std,four,sedan,rwd,four,72,4200,31,39,18344',\n",
       " 'nissan,gas,std,two,hatchback,rwd,six,160,5200,19,25,18399',\n",
       " 'volvo,gas,turbo,four,sedan,rwd,four,162,5100,17,22,18420',\n",
       " 'saab,gas,turbo,four,sedan,fwd,four,160,5500,19,26,18620',\n",
       " 'audi,gas,std,four,wagon,fwd,five,110,5500,19,25,18920',\n",
       " 'volvo,gas,turbo,four,wagon,rwd,four,162,5100,17,22,18950',\n",
       " 'volvo,gas,turbo,four,sedan,rwd,four,160,5300,19,25,19045',\n",
       " 'nissan,gas,turbo,two,hatchback,rwd,six,200,5200,17,23,19699',\n",
       " 'bmw,gas,std,two,sedan,rwd,six,121,4250,21,28,20970',\n",
       " 'bmw,gas,std,four,sedan,rwd,six,121,4250,21,28,21105',\n",
       " 'volvo,gas,std,four,sedan,rwd,six,134,5500,18,23,21485',\n",
       " 'porsche,gas,std,two,hatchback,rwd,four,143,5500,19,27,22018',\n",
       " 'volvo,diesel,turbo,four,sedan,rwd,six,106,4800,26,27,22470',\n",
       " 'volvo,gas,turbo,four,sedan,rwd,four,114,5400,19,25,22625',\n",
       " 'audi,gas,turbo,four,sedan,fwd,five,140,5500,17,20,23875',\n",
       " 'bmw,gas,std,four,sedan,rwd,six,121,4250,20,25,24565',\n",
       " 'mercedes-benz,diesel,turbo,four,sedan,rwd,five,123,4350,22,25,25552',\n",
       " 'mercedes-benz,diesel,turbo,two,hardtop,rwd,five,123,4350,22,25,28176',\n",
       " 'mercedes-benz,diesel,turbo,four,wagon,rwd,five,123,4350,22,25,28248',\n",
       " 'bmw,gas,std,four,sedan,rwd,six,182,5400,16,22,30760',\n",
       " 'mercedes-benz,diesel,turbo,four,sedan,rwd,five,123,4350,22,25,31600',\n",
       " 'jaguar,gas,std,four,sedan,rwd,six,176,4750,15,19,32250',\n",
       " 'porsche,gas,std,two,hardtop,rwd,six,207,5900,17,25,32528',\n",
       " 'porsche,gas,std,two,hardtop,rwd,six,207,5900,17,25,34028',\n",
       " 'mercedes-benz,gas,std,four,sedan,rwd,eight,155,4750,16,18,34184',\n",
       " 'mercedes-benz,gas,std,two,convertible,rwd,eight,155,4750,16,18,35056',\n",
       " 'jaguar,gas,std,four,sedan,rwd,six,176,4750,15,19,35550',\n",
       " 'jaguar,gas,std,two,sedan,rwd,twelve,262,5000,13,17,36000',\n",
       " 'bmw,gas,std,four,sedan,rwd,six,182,5400,15,20,36880',\n",
       " 'porsche,gas,std,two,convertible,rwd,six,207,5900,17,25,37028',\n",
       " 'mercedes-benz,gas,std,four,sedan,rwd,eight,184,4500,14,16,40960',\n",
       " 'bmw,gas,std,two,sedan,rwd,six,182,5400,16,22,41315',\n",
       " 'mercedes-benz,gas,std,two,hardtop,rwd,eight,184,4500,14,16,45400']"
      ]
     },
     "execution_count": 11,
     "metadata": {},
     "output_type": "execute_result"
    }
   ],
   "source": [
    "linhasRDD2.collect()"
   ]
  },
  {
   "cell_type": "code",
   "execution_count": 12,
   "metadata": {},
   "outputs": [],
   "source": [
    "linhasRDD3 = linhasRDD2.map(lambda line: line.split(\",\"))"
   ]
  },
  {
   "cell_type": "code",
   "execution_count": 13,
   "metadata": {},
   "outputs": [
    {
     "data": {
      "text/plain": [
       "[['subaru',\n",
       "  'gas',\n",
       "  'std',\n",
       "  'two',\n",
       "  'hatchback',\n",
       "  'fwd',\n",
       "  'four',\n",
       "  '69',\n",
       "  '4900',\n",
       "  '31',\n",
       "  '36',\n",
       "  '5118'],\n",
       " ['chevrolet',\n",
       "  'gas',\n",
       "  'std',\n",
       "  'two',\n",
       "  'hatchback',\n",
       "  'fwd',\n",
       "  'three',\n",
       "  '48',\n",
       "  '5100',\n",
       "  '47',\n",
       "  '53',\n",
       "  '5151'],\n",
       " ['mazda',\n",
       "  'gas',\n",
       "  'std',\n",
       "  'two',\n",
       "  'hatchback',\n",
       "  'fwd',\n",
       "  'four',\n",
       "  '68',\n",
       "  '5000',\n",
       "  '30',\n",
       "  '31',\n",
       "  '5195'],\n",
       " ['toyota',\n",
       "  'gas',\n",
       "  'std',\n",
       "  'two',\n",
       "  'hatchback',\n",
       "  'fwd',\n",
       "  'four',\n",
       "  '62',\n",
       "  '4800',\n",
       "  '35',\n",
       "  '39',\n",
       "  '5348'],\n",
       " ['mitsubishi',\n",
       "  'gas',\n",
       "  'std',\n",
       "  'two',\n",
       "  'hatchback',\n",
       "  'fwd',\n",
       "  'four',\n",
       "  '68',\n",
       "  '5500',\n",
       "  '37',\n",
       "  '41',\n",
       "  '5389']]"
      ]
     },
     "execution_count": 13,
     "metadata": {},
     "output_type": "execute_result"
    }
   ],
   "source": [
    "linhasRDD3.take(5)"
   ]
  },
  {
   "cell_type": "code",
   "execution_count": 14,
   "metadata": {},
   "outputs": [],
   "source": [
    "linhasRDD4 = linhasRDD3.map(lambda p: Row(make = p[0], body = p[4], hp = int(p[7])))"
   ]
  },
  {
   "cell_type": "code",
   "execution_count": 15,
   "metadata": {},
   "outputs": [
    {
     "data": {
      "text/plain": [
       "[Row(body='hatchback', hp=69, make='subaru'),\n",
       " Row(body='hatchback', hp=48, make='chevrolet'),\n",
       " Row(body='hatchback', hp=68, make='mazda')]"
      ]
     },
     "execution_count": 15,
     "metadata": {},
     "output_type": "execute_result"
    }
   ],
   "source": [
    "linhasRDD4.take(3)"
   ]
  },
  {
   "cell_type": "code",
   "execution_count": 16,
   "metadata": {},
   "outputs": [
    {
     "name": "stdout",
     "output_type": "stream",
     "text": [
      "PythonRDD[7] at RDD at PythonRDD.scala:53\n"
     ]
    }
   ],
   "source": [
    "print(linhasRDD4)"
   ]
  },
  {
   "cell_type": "code",
   "execution_count": 17,
   "metadata": {},
   "outputs": [],
   "source": [
    "?Row"
   ]
  },
  {
   "cell_type": "code",
   "execution_count": 18,
   "metadata": {},
   "outputs": [],
   "source": [
    "df = spSession.createDataFrame(linhasRDD4)"
   ]
  },
  {
   "cell_type": "code",
   "execution_count": 19,
   "metadata": {},
   "outputs": [
    {
     "name": "stdout",
     "output_type": "stream",
     "text": [
      "+---------+---+----------+\n",
      "|     body| hp|      make|\n",
      "+---------+---+----------+\n",
      "|hatchback| 69|    subaru|\n",
      "|hatchback| 48| chevrolet|\n",
      "|hatchback| 68|     mazda|\n",
      "|hatchback| 62|    toyota|\n",
      "|hatchback| 68|mitsubishi|\n",
      "|hatchback| 60|     honda|\n",
      "|    sedan| 69|    nissan|\n",
      "|hatchback| 68|     dodge|\n",
      "|hatchback| 68|  plymouth|\n",
      "|hatchback| 68|     mazda|\n",
      "|hatchback| 68|mitsubishi|\n",
      "|hatchback| 68|     dodge|\n",
      "|hatchback| 68|  plymouth|\n",
      "|hatchback| 70| chevrolet|\n",
      "|hatchback| 62|    toyota|\n",
      "|hatchback| 68|     dodge|\n",
      "|hatchback| 58|     honda|\n",
      "|hatchback| 62|    toyota|\n",
      "|hatchback| 76|     honda|\n",
      "|    sedan| 70| chevrolet|\n",
      "+---------+---+----------+\n",
      "only showing top 20 rows\n",
      "\n"
     ]
    }
   ],
   "source": [
    "df.show()"
   ]
  },
  {
   "cell_type": "code",
   "execution_count": 20,
   "metadata": {},
   "outputs": [
    {
     "data": {
      "text/plain": [
       "pyspark.sql.dataframe.DataFrame"
      ]
     },
     "execution_count": 20,
     "metadata": {},
     "output_type": "execute_result"
    }
   ],
   "source": [
    "type(df)"
   ]
  },
  {
   "cell_type": "code",
   "execution_count": 21,
   "metadata": {},
   "outputs": [
    {
     "name": "stdout",
     "output_type": "stream",
     "text": [
      "+---------+---+----------+\n",
      "|     body| hp|      make|\n",
      "+---------+---+----------+\n",
      "|hatchback| 69|    subaru|\n",
      "|hatchback| 48| chevrolet|\n",
      "|hatchback| 68|     mazda|\n",
      "|hatchback| 62|    toyota|\n",
      "|hatchback| 68|mitsubishi|\n",
      "|hatchback| 60|     honda|\n",
      "|    sedan| 69|    nissan|\n",
      "|hatchback| 68|     dodge|\n",
      "|hatchback| 68|  plymouth|\n",
      "|hatchback| 68|     mazda|\n",
      "|hatchback| 68|mitsubishi|\n",
      "|hatchback| 68|     dodge|\n",
      "|hatchback| 68|  plymouth|\n",
      "|hatchback| 70| chevrolet|\n",
      "|hatchback| 62|    toyota|\n",
      "|hatchback| 68|     dodge|\n",
      "|hatchback| 58|     honda|\n",
      "|hatchback| 62|    toyota|\n",
      "|hatchback| 76|     honda|\n",
      "|    sedan| 70| chevrolet|\n",
      "+---------+---+----------+\n",
      "only showing top 20 rows\n",
      "\n"
     ]
    }
   ],
   "source": [
    "df.select(\"*\").show()"
   ]
  },
  {
   "cell_type": "code",
   "execution_count": 22,
   "metadata": {},
   "outputs": [
    {
     "name": "stdout",
     "output_type": "stream",
     "text": [
      "+---------+---+----------+\n",
      "|     body| hp|      make|\n",
      "+---------+---+----------+\n",
      "|hatchback| 48| chevrolet|\n",
      "|    sedan| 52|volkswagen|\n",
      "|    sedan| 52|volkswagen|\n",
      "|    sedan| 55|    nissan|\n",
      "|hatchback| 56|    toyota|\n",
      "|    sedan| 56|    toyota|\n",
      "|hatchback| 58|     honda|\n",
      "|hatchback| 60|     honda|\n",
      "|hatchback| 62|    toyota|\n",
      "|    wagon| 62|    toyota|\n",
      "|    wagon| 62|    toyota|\n",
      "|hatchback| 62|    toyota|\n",
      "|    wagon| 62|    toyota|\n",
      "|hatchback| 62|    toyota|\n",
      "|    sedan| 68|     mazda|\n",
      "|hatchback| 68|     mazda|\n",
      "|hatchback| 68|mitsubishi|\n",
      "|hatchback| 68|     dodge|\n",
      "|hatchback| 68|mitsubishi|\n",
      "|hatchback| 68|mitsubishi|\n",
      "+---------+---+----------+\n",
      "only showing top 20 rows\n",
      "\n"
     ]
    }
   ],
   "source": [
    "df.orderBy(\"hp\").show()"
   ]
  },
  {
   "cell_type": "code",
   "execution_count": 23,
   "metadata": {},
   "outputs": [],
   "source": [
    "df.createOrReplaceTempView(\"linhasTB\")"
   ]
  },
  {
   "cell_type": "code",
   "execution_count": 24,
   "metadata": {},
   "outputs": [
    {
     "name": "stdout",
     "output_type": "stream",
     "text": [
      "java version \"1.8.0_271\"\r\n",
      "Java(TM) SE Runtime Environment (build 1.8.0_271-b09)\r\n",
      "Java HotSpot(TM) 64-Bit Server VM (build 25.271-b09, mixed mode)\r\n"
     ]
    }
   ],
   "source": [
    "!java -version"
   ]
  },
  {
   "cell_type": "code",
   "execution_count": 25,
   "metadata": {},
   "outputs": [
    {
     "name": "stdout",
     "output_type": "stream",
     "text": [
      "+---+\n",
      "| hp|\n",
      "+---+\n",
      "| 69|\n",
      "| 48|\n",
      "| 68|\n",
      "| 62|\n",
      "| 68|\n",
      "| 60|\n",
      "| 69|\n",
      "| 68|\n",
      "| 68|\n",
      "| 68|\n",
      "| 68|\n",
      "| 68|\n",
      "| 68|\n",
      "| 70|\n",
      "| 62|\n",
      "| 68|\n",
      "| 58|\n",
      "| 62|\n",
      "| 76|\n",
      "| 70|\n",
      "+---+\n",
      "only showing top 20 rows\n",
      "\n"
     ]
    }
   ],
   "source": [
    "spSession.sql(\"select hp from linhasTB\").show()"
   ]
  },
  {
   "cell_type": "code",
   "execution_count": 26,
   "metadata": {},
   "outputs": [
    {
     "name": "stdout",
     "output_type": "stream",
     "text": [
      "+---------+---+------+\n",
      "|     body| hp|  make|\n",
      "+---------+---+------+\n",
      "|hatchback| 69|subaru|\n",
      "|hatchback| 73|subaru|\n",
      "|hatchback| 73|subaru|\n",
      "|    wagon| 82|subaru|\n",
      "|    sedan| 82|subaru|\n",
      "|    wagon| 82|subaru|\n",
      "|    sedan| 82|subaru|\n",
      "|    sedan| 82|subaru|\n",
      "|    sedan| 94|subaru|\n",
      "|    wagon| 94|subaru|\n",
      "|    sedan|111|subaru|\n",
      "|    wagon|111|subaru|\n",
      "+---------+---+------+\n",
      "\n"
     ]
    }
   ],
   "source": [
    "spSession.sql(\"select * from linhasTB where make = 'subaru' order by 2\").show()"
   ]
  },
  {
   "cell_type": "code",
   "execution_count": 27,
   "metadata": {},
   "outputs": [
    {
     "name": "stdout",
     "output_type": "stream",
     "text": [
      "+-------------+-----+\n",
      "|         make|total|\n",
      "+-------------+-----+\n",
      "|       peugot|   11|\n",
      "|       jaguar|    3|\n",
      "|   mitsubishi|   13|\n",
      "|       toyota|   32|\n",
      "|         saab|    6|\n",
      "|     plymouth|    7|\n",
      "|         audi|    6|\n",
      "|  alfa-romero|    3|\n",
      "|          bmw|    8|\n",
      "|        dodge|    8|\n",
      "|        mazda|   16|\n",
      "|mercedes-benz|    8|\n",
      "|        isuzu|    2|\n",
      "|      porsche|    4|\n",
      "|    chevrolet|    3|\n",
      "|        honda|   13|\n",
      "|   volkswagen|   12|\n",
      "|      mercury|    1|\n",
      "|       nissan|   18|\n",
      "|       subaru|   12|\n",
      "+-------------+-----+\n",
      "only showing top 20 rows\n",
      "\n"
     ]
    }
   ],
   "source": [
    "spSession.sql(\"select make, count(1) total from linhasTB group by make\").show()"
   ]
  },
  {
   "cell_type": "markdown",
   "metadata": {},
   "source": [
    "### Arquivos CSV"
   ]
  },
  {
   "cell_type": "code",
   "execution_count": 28,
   "metadata": {},
   "outputs": [],
   "source": [
    "df1 = spSession.read.csv(\"data/carros.csv\", header = True)"
   ]
  },
  {
   "cell_type": "code",
   "execution_count": 29,
   "metadata": {},
   "outputs": [
    {
     "data": {
      "text/plain": [
       "pyspark.sql.dataframe.DataFrame"
      ]
     },
     "execution_count": 29,
     "metadata": {},
     "output_type": "execute_result"
    }
   ],
   "source": [
    "type(df1)"
   ]
  },
  {
   "cell_type": "code",
   "execution_count": 30,
   "metadata": {},
   "outputs": [
    {
     "name": "stdout",
     "output_type": "stream",
     "text": [
      "+----------+\n",
      "|      make|\n",
      "+----------+\n",
      "|    subaru|\n",
      "| chevrolet|\n",
      "|     mazda|\n",
      "|    toyota|\n",
      "|mitsubishi|\n",
      "|     honda|\n",
      "|    nissan|\n",
      "|     dodge|\n",
      "|  plymouth|\n",
      "|     mazda|\n",
      "|mitsubishi|\n",
      "|     dodge|\n",
      "|  plymouth|\n",
      "| chevrolet|\n",
      "|    toyota|\n",
      "|     dodge|\n",
      "|     honda|\n",
      "|    toyota|\n",
      "|     honda|\n",
      "| chevrolet|\n",
      "+----------+\n",
      "only showing top 20 rows\n",
      "\n"
     ]
    }
   ],
   "source": [
    "df1.select(\"make\").show()"
   ]
  },
  {
   "cell_type": "code",
   "execution_count": 31,
   "metadata": {},
   "outputs": [],
   "source": [
    "df1.createOrReplaceTempView(\"df1\")"
   ]
  },
  {
   "cell_type": "code",
   "execution_count": 32,
   "metadata": {},
   "outputs": [
    {
     "name": "stdout",
     "output_type": "stream",
     "text": [
      "+----------+--------+------+-----+---------+-----+---------+---+----+--------+-------+-----+\n",
      "|      MAKE|FUELTYPE|ASPIRE|DOORS|     BODY|DRIVE|CYLINDERS| HP| RPM|MPG-CITY|MPG-HWY|PRICE|\n",
      "+----------+--------+------+-----+---------+-----+---------+---+----+--------+-------+-----+\n",
      "|    subaru|     gas|   std|  two|hatchback|  fwd|     four| 69|4900|      31|     36| 5118|\n",
      "| chevrolet|     gas|   std|  two|hatchback|  fwd|    three| 48|5100|      47|     53| 5151|\n",
      "|     mazda|     gas|   std|  two|hatchback|  fwd|     four| 68|5000|      30|     31| 5195|\n",
      "|    toyota|     gas|   std|  two|hatchback|  fwd|     four| 62|4800|      35|     39| 5348|\n",
      "|mitsubishi|     gas|   std|  two|hatchback|  fwd|     four| 68|5500|      37|     41| 5389|\n",
      "|     honda|     gas|   std|  two|hatchback|  fwd|     four| 60|5500|      38|     42| 5399|\n",
      "|    nissan|     gas|   std|  two|    sedan|  fwd|     four| 69|5200|      31|     37| 5499|\n",
      "|     dodge|     gas|   std|  two|hatchback|  fwd|     four| 68|5500|      37|     41| 5572|\n",
      "|  plymouth|     gas|   std|  two|hatchback|  fwd|     four| 68|5500|      37|     41| 5572|\n",
      "|     mazda|     gas|   std|  two|hatchback|  fwd|     four| 68|5000|      31|     38| 6095|\n",
      "|mitsubishi|     gas|   std|  two|hatchback|  fwd|     four| 68|5500|      31|     38| 6189|\n",
      "|     dodge|     gas|   std| four|hatchback|  fwd|     four| 68|5500|      31|     38| 6229|\n",
      "|  plymouth|     gas|   std| four|hatchback|  fwd|     four| 68|5500|      31|     38| 6229|\n",
      "| chevrolet|     gas|   std|  two|hatchback|  fwd|     four| 70|5400|      38|     43| 6295|\n",
      "|    toyota|     gas|   std|  two|hatchback|  fwd|     four| 62|4800|      31|     38| 6338|\n",
      "|     dodge|     gas|   std|  two|hatchback|  fwd|     four| 68|5500|      31|     38| 6377|\n",
      "|     honda|     gas|   std|  two|hatchback|  fwd|     four| 58|4800|      49|     54| 6479|\n",
      "|    toyota|     gas|   std| four|hatchback|  fwd|     four| 62|4800|      31|     38| 6488|\n",
      "|     honda|     gas|   std|  two|hatchback|  fwd|     four| 76|6000|      30|     34| 6529|\n",
      "| chevrolet|     gas|   std| four|    sedan|  fwd|     four| 70|5400|      38|     43| 6575|\n",
      "+----------+--------+------+-----+---------+-----+---------+---+----+--------+-------+-----+\n",
      "only showing top 20 rows\n",
      "\n"
     ]
    }
   ],
   "source": [
    "spSession.sql(\"select * from df1\").show()"
   ]
  },
  {
   "cell_type": "code",
   "execution_count": 33,
   "metadata": {},
   "outputs": [],
   "source": [
    "df2 = spSession.sql(\"select * from df1\")"
   ]
  },
  {
   "cell_type": "code",
   "execution_count": 34,
   "metadata": {},
   "outputs": [
    {
     "name": "stdout",
     "output_type": "stream",
     "text": [
      "+----------+--------+------+-----+---------+-----+---------+---+----+--------+-------+-----+\n",
      "|      MAKE|FUELTYPE|ASPIRE|DOORS|     BODY|DRIVE|CYLINDERS| HP| RPM|MPG-CITY|MPG-HWY|PRICE|\n",
      "+----------+--------+------+-----+---------+-----+---------+---+----+--------+-------+-----+\n",
      "|    subaru|     gas|   std|  two|hatchback|  fwd|     four| 69|4900|      31|     36| 5118|\n",
      "| chevrolet|     gas|   std|  two|hatchback|  fwd|    three| 48|5100|      47|     53| 5151|\n",
      "|     mazda|     gas|   std|  two|hatchback|  fwd|     four| 68|5000|      30|     31| 5195|\n",
      "|    toyota|     gas|   std|  two|hatchback|  fwd|     four| 62|4800|      35|     39| 5348|\n",
      "|mitsubishi|     gas|   std|  two|hatchback|  fwd|     four| 68|5500|      37|     41| 5389|\n",
      "|     honda|     gas|   std|  two|hatchback|  fwd|     four| 60|5500|      38|     42| 5399|\n",
      "|    nissan|     gas|   std|  two|    sedan|  fwd|     four| 69|5200|      31|     37| 5499|\n",
      "|     dodge|     gas|   std|  two|hatchback|  fwd|     four| 68|5500|      37|     41| 5572|\n",
      "|  plymouth|     gas|   std|  two|hatchback|  fwd|     four| 68|5500|      37|     41| 5572|\n",
      "|     mazda|     gas|   std|  two|hatchback|  fwd|     four| 68|5000|      31|     38| 6095|\n",
      "|mitsubishi|     gas|   std|  two|hatchback|  fwd|     four| 68|5500|      31|     38| 6189|\n",
      "|     dodge|     gas|   std| four|hatchback|  fwd|     four| 68|5500|      31|     38| 6229|\n",
      "|  plymouth|     gas|   std| four|hatchback|  fwd|     four| 68|5500|      31|     38| 6229|\n",
      "| chevrolet|     gas|   std|  two|hatchback|  fwd|     four| 70|5400|      38|     43| 6295|\n",
      "|    toyota|     gas|   std|  two|hatchback|  fwd|     four| 62|4800|      31|     38| 6338|\n",
      "|     dodge|     gas|   std|  two|hatchback|  fwd|     four| 68|5500|      31|     38| 6377|\n",
      "|     honda|     gas|   std|  two|hatchback|  fwd|     four| 58|4800|      49|     54| 6479|\n",
      "|    toyota|     gas|   std| four|hatchback|  fwd|     four| 62|4800|      31|     38| 6488|\n",
      "|     honda|     gas|   std|  two|hatchback|  fwd|     four| 76|6000|      30|     34| 6529|\n",
      "| chevrolet|     gas|   std| four|    sedan|  fwd|     four| 70|5400|      38|     43| 6575|\n",
      "+----------+--------+------+-----+---------+-----+---------+---+----+--------+-------+-----+\n",
      "only showing top 20 rows\n",
      "\n"
     ]
    }
   ],
   "source": [
    "df2.show()"
   ]
  },
  {
   "cell_type": "markdown",
   "metadata": {},
   "source": [
    "### Aplicando Machine Learning"
   ]
  },
  {
   "cell_type": "code",
   "execution_count": 35,
   "metadata": {},
   "outputs": [
    {
     "data": {
      "text/plain": [
       "data/carros.csv MapPartitionsRDD[62] at textFile at NativeMethodAccessorImpl.java:0"
      ]
     },
     "execution_count": 35,
     "metadata": {},
     "output_type": "execute_result"
    }
   ],
   "source": [
    "carros = sc.textFile(\"data/carros.csv\")\n",
    "carros.cache()"
   ]
  },
  {
   "cell_type": "code",
   "execution_count": 36,
   "metadata": {},
   "outputs": [
    {
     "data": {
      "text/plain": [
       "197"
      ]
     },
     "execution_count": 36,
     "metadata": {},
     "output_type": "execute_result"
    }
   ],
   "source": [
    "primeiraLinha = carros.first()\n",
    "linhas = carros.filter(lambda x: x != primeiraLinha)\n",
    "linhas.count()"
   ]
  },
  {
   "cell_type": "code",
   "execution_count": 37,
   "metadata": {},
   "outputs": [],
   "source": [
    "def transformToNumeric(inputStr):\n",
    "    attList = inputStr.split(\",\")\n",
    "    \n",
    "    doors = 1.0 if attList[3] == \"two\" else 2.0\n",
    "    \n",
    "    body = 1.0 if attList[4] == \"sedan\" else 2.0\n",
    "    \n",
    "    valores = Row(DOORS = doors, \n",
    "        BODY = float(body),\n",
    "        HP = float(attList[7]),\n",
    "        RPM = float(attList[8]),\n",
    "        MPG = float(attList[9]) + float(attList[10]))\n",
    "                  \n",
    "    return valores"
   ]
  },
  {
   "cell_type": "code",
   "execution_count": 38,
   "metadata": {},
   "outputs": [
    {
     "data": {
      "text/plain": [
       "[Row(BODY=2.0, DOORS=1.0, HP=69.0, MPG=67.0, RPM=4900.0),\n",
       " Row(BODY=2.0, DOORS=1.0, HP=48.0, MPG=100.0, RPM=5100.0),\n",
       " Row(BODY=2.0, DOORS=1.0, HP=68.0, MPG=61.0, RPM=5000.0),\n",
       " Row(BODY=2.0, DOORS=1.0, HP=62.0, MPG=74.0, RPM=4800.0),\n",
       " Row(BODY=2.0, DOORS=1.0, HP=68.0, MPG=78.0, RPM=5500.0),\n",
       " Row(BODY=2.0, DOORS=1.0, HP=60.0, MPG=80.0, RPM=5500.0),\n",
       " Row(BODY=1.0, DOORS=1.0, HP=69.0, MPG=68.0, RPM=5200.0),\n",
       " Row(BODY=2.0, DOORS=1.0, HP=68.0, MPG=78.0, RPM=5500.0),\n",
       " Row(BODY=2.0, DOORS=1.0, HP=68.0, MPG=78.0, RPM=5500.0),\n",
       " Row(BODY=2.0, DOORS=1.0, HP=68.0, MPG=69.0, RPM=5000.0),\n",
       " Row(BODY=2.0, DOORS=1.0, HP=68.0, MPG=69.0, RPM=5500.0),\n",
       " Row(BODY=2.0, DOORS=2.0, HP=68.0, MPG=69.0, RPM=5500.0),\n",
       " Row(BODY=2.0, DOORS=2.0, HP=68.0, MPG=69.0, RPM=5500.0),\n",
       " Row(BODY=2.0, DOORS=1.0, HP=70.0, MPG=81.0, RPM=5400.0),\n",
       " Row(BODY=2.0, DOORS=1.0, HP=62.0, MPG=69.0, RPM=4800.0),\n",
       " Row(BODY=2.0, DOORS=1.0, HP=68.0, MPG=69.0, RPM=5500.0),\n",
       " Row(BODY=2.0, DOORS=1.0, HP=58.0, MPG=103.0, RPM=4800.0),\n",
       " Row(BODY=2.0, DOORS=2.0, HP=62.0, MPG=69.0, RPM=4800.0),\n",
       " Row(BODY=2.0, DOORS=1.0, HP=76.0, MPG=64.0, RPM=6000.0),\n",
       " Row(BODY=1.0, DOORS=2.0, HP=70.0, MPG=81.0, RPM=5400.0),\n",
       " Row(BODY=1.0, DOORS=1.0, HP=69.0, MPG=68.0, RPM=5200.0),\n",
       " Row(BODY=2.0, DOORS=1.0, HP=68.0, MPG=69.0, RPM=5500.0),\n",
       " Row(BODY=1.0, DOORS=2.0, HP=68.0, MPG=69.0, RPM=5500.0),\n",
       " Row(BODY=1.0, DOORS=2.0, HP=68.0, MPG=69.0, RPM=5500.0),\n",
       " Row(BODY=1.0, DOORS=2.0, HP=68.0, MPG=69.0, RPM=5000.0),\n",
       " Row(BODY=1.0, DOORS=2.0, HP=78.0, MPG=53.0, RPM=4800.0),\n",
       " Row(BODY=2.0, DOORS=1.0, HP=68.0, MPG=69.0, RPM=5000.0),\n",
       " Row(BODY=1.0, DOORS=2.0, HP=69.0, MPG=68.0, RPM=5200.0),\n",
       " Row(BODY=2.0, DOORS=1.0, HP=76.0, MPG=69.0, RPM=6000.0),\n",
       " Row(BODY=2.0, DOORS=2.0, HP=62.0, MPG=68.0, RPM=4800.0),\n",
       " Row(BODY=1.0, DOORS=2.0, HP=70.0, MPG=67.0, RPM=4800.0),\n",
       " Row(BODY=1.0, DOORS=2.0, HP=88.0, MPG=57.0, RPM=5000.0),\n",
       " Row(BODY=2.0, DOORS=1.0, HP=73.0, MPG=57.0, RPM=4400.0),\n",
       " Row(BODY=1.0, DOORS=1.0, HP=55.0, MPG=95.0, RPM=4800.0),\n",
       " Row(BODY=1.0, DOORS=2.0, HP=82.0, MPG=69.0, RPM=4800.0),\n",
       " Row(BODY=2.0, DOORS=1.0, HP=76.0, MPG=64.0, RPM=6000.0),\n",
       " Row(BODY=2.0, DOORS=2.0, HP=70.0, MPG=67.0, RPM=4800.0),\n",
       " Row(BODY=1.0, DOORS=2.0, HP=76.0, MPG=64.0, RPM=6000.0),\n",
       " Row(BODY=2.0, DOORS=2.0, HP=76.0, MPG=64.0, RPM=6000.0),\n",
       " Row(BODY=1.0, DOORS=1.0, HP=69.0, MPG=68.0, RPM=5200.0),\n",
       " Row(BODY=2.0, DOORS=2.0, HP=69.0, MPG=68.0, RPM=5200.0),\n",
       " Row(BODY=1.0, DOORS=2.0, HP=68.0, MPG=69.0, RPM=5000.0),\n",
       " Row(BODY=2.0, DOORS=2.0, HP=82.0, MPG=60.0, RPM=4800.0),\n",
       " Row(BODY=1.0, DOORS=2.0, HP=69.0, MPG=68.0, RPM=5200.0),\n",
       " Row(BODY=2.0, DOORS=1.0, HP=73.0, MPG=57.0, RPM=4400.0),\n",
       " Row(BODY=1.0, DOORS=2.0, HP=68.0, MPG=69.0, RPM=5500.0),\n",
       " Row(BODY=1.0, DOORS=2.0, HP=68.0, MPG=69.0, RPM=5500.0),\n",
       " Row(BODY=2.0, DOORS=1.0, HP=102.0, MPG=54.0, RPM=5500.0),\n",
       " Row(BODY=1.0, DOORS=2.0, HP=70.0, MPG=85.0, RPM=4800.0),\n",
       " Row(BODY=1.0, DOORS=2.0, HP=82.0, MPG=61.0, RPM=4400.0),\n",
       " Row(BODY=1.0, DOORS=1.0, HP=52.0, MPG=83.0, RPM=4800.0),\n",
       " Row(BODY=2.0, DOORS=2.0, HP=56.0, MPG=85.0, RPM=4500.0),\n",
       " Row(BODY=2.0, DOORS=1.0, HP=69.0, MPG=68.0, RPM=5200.0),\n",
       " Row(BODY=2.0, DOORS=1.0, HP=86.0, MPG=60.0, RPM=5800.0),\n",
       " Row(BODY=2.0, DOORS=2.0, HP=62.0, MPG=59.0, RPM=4800.0),\n",
       " Row(BODY=1.0, DOORS=2.0, HP=56.0, MPG=70.0, RPM=4500.0),\n",
       " Row(BODY=2.0, DOORS=1.0, HP=102.0, MPG=54.0, RPM=5500.0),\n",
       " Row(BODY=2.0, DOORS=1.0, HP=102.0, MPG=54.0, RPM=5500.0),\n",
       " Row(BODY=1.0, DOORS=1.0, HP=85.0, MPG=61.0, RPM=5250.0),\n",
       " Row(BODY=1.0, DOORS=2.0, HP=52.0, MPG=83.0, RPM=4800.0),\n",
       " Row(BODY=2.0, DOORS=2.0, HP=69.0, MPG=68.0, RPM=5200.0),\n",
       " Row(BODY=2.0, DOORS=2.0, HP=82.0, MPG=52.0, RPM=4800.0),\n",
       " Row(BODY=1.0, DOORS=1.0, HP=70.0, MPG=63.0, RPM=4800.0),\n",
       " Row(BODY=1.0, DOORS=2.0, HP=88.0, MPG=57.0, RPM=5000.0),\n",
       " Row(BODY=1.0, DOORS=2.0, HP=85.0, MPG=61.0, RPM=5250.0),\n",
       " Row(BODY=2.0, DOORS=1.0, HP=70.0, MPG=63.0, RPM=4800.0),\n",
       " Row(BODY=2.0, DOORS=1.0, HP=69.0, MPG=68.0, RPM=5200.0),\n",
       " Row(BODY=2.0, DOORS=2.0, HP=70.0, MPG=62.0, RPM=4800.0),\n",
       " Row(BODY=2.0, DOORS=1.0, HP=116.0, MPG=54.0, RPM=4800.0),\n",
       " Row(BODY=1.0, DOORS=2.0, HP=84.0, MPG=58.0, RPM=4800.0),\n",
       " Row(BODY=1.0, DOORS=2.0, HP=85.0, MPG=61.0, RPM=5250.0),\n",
       " Row(BODY=2.0, DOORS=1.0, HP=88.0, MPG=57.0, RPM=5000.0),\n",
       " Row(BODY=2.0, DOORS=2.0, HP=62.0, MPG=59.0, RPM=4800.0),\n",
       " Row(BODY=1.0, DOORS=2.0, HP=86.0, MPG=60.0, RPM=5800.0),\n",
       " Row(BODY=2.0, DOORS=1.0, HP=84.0, MPG=58.0, RPM=4800.0),\n",
       " Row(BODY=2.0, DOORS=2.0, HP=88.0, MPG=54.0, RPM=5000.0),\n",
       " Row(BODY=2.0, DOORS=2.0, HP=88.0, MPG=54.0, RPM=5000.0),\n",
       " Row(BODY=1.0, DOORS=2.0, HP=92.0, MPG=63.0, RPM=4200.0),\n",
       " Row(BODY=2.0, DOORS=2.0, HP=97.0, MPG=61.0, RPM=5200.0),\n",
       " Row(BODY=2.0, DOORS=1.0, HP=86.0, MPG=60.0, RPM=5800.0),\n",
       " Row(BODY=1.0, DOORS=2.0, HP=82.0, MPG=49.0, RPM=4800.0),\n",
       " Row(BODY=1.0, DOORS=2.0, HP=70.0, MPG=62.0, RPM=4800.0),\n",
       " Row(BODY=1.0, DOORS=2.0, HP=116.0, MPG=53.0, RPM=5500.0),\n",
       " Row(BODY=1.0, DOORS=2.0, HP=116.0, MPG=53.0, RPM=5500.0),\n",
       " Row(BODY=1.0, DOORS=1.0, HP=112.0, MPG=55.0, RPM=6600.0),\n",
       " Row(BODY=1.0, DOORS=2.0, HP=68.0, MPG=79.0, RPM=4500.0),\n",
       " Row(BODY=2.0, DOORS=1.0, HP=112.0, MPG=55.0, RPM=6600.0),\n",
       " Row(BODY=1.0, DOORS=2.0, HP=97.0, MPG=61.0, RPM=5200.0),\n",
       " Row(BODY=2.0, DOORS=1.0, HP=116.0, MPG=54.0, RPM=4800.0),\n",
       " Row(BODY=2.0, DOORS=1.0, HP=116.0, MPG=53.0, RPM=5500.0),\n",
       " Row(BODY=1.0, DOORS=2.0, HP=94.0, MPG=58.0, RPM=5200.0),\n",
       " Row(BODY=2.0, DOORS=1.0, HP=90.0, MPG=53.0, RPM=5500.0),\n",
       " Row(BODY=2.0, DOORS=2.0, HP=92.0, MPG=59.0, RPM=4200.0),\n",
       " Row(BODY=2.0, DOORS=1.0, HP=116.0, MPG=54.0, RPM=4800.0),\n",
       " Row(BODY=1.0, DOORS=2.0, HP=100.0, MPG=58.0, RPM=5500.0),\n",
       " Row(BODY=2.0, DOORS=2.0, HP=94.0, MPG=56.0, RPM=5200.0),\n",
       " Row(BODY=1.0, DOORS=2.0, HP=84.0, MPG=58.0, RPM=4800.0),\n",
       " Row(BODY=1.0, DOORS=2.0, HP=86.0, MPG=60.0, RPM=5800.0),\n",
       " Row(BODY=1.0, DOORS=1.0, HP=100.0, MPG=56.0, RPM=5500.0),\n",
       " Row(BODY=2.0, DOORS=1.0, HP=84.0, MPG=58.0, RPM=4800.0),\n",
       " Row(BODY=1.0, DOORS=2.0, HP=73.0, MPG=63.0, RPM=4500.0),\n",
       " Row(BODY=1.0, DOORS=2.0, HP=92.0, MPG=59.0, RPM=4200.0),\n",
       " Row(BODY=2.0, DOORS=1.0, HP=101.0, MPG=40.0, RPM=6000.0),\n",
       " Row(BODY=2.0, DOORS=1.0, HP=90.0, MPG=53.0, RPM=5000.0),\n",
       " Row(BODY=2.0, DOORS=1.0, HP=116.0, MPG=54.0, RPM=4800.0),\n",
       " Row(BODY=2.0, DOORS=2.0, HP=84.0, MPG=58.0, RPM=4800.0),\n",
       " Row(BODY=2.0, DOORS=2.0, HP=92.0, MPG=59.0, RPM=4200.0),\n",
       " Row(BODY=1.0, DOORS=2.0, HP=111.0, MPG=53.0, RPM=4800.0),\n",
       " Row(BODY=2.0, DOORS=1.0, HP=116.0, MPG=54.0, RPM=4800.0),\n",
       " Row(BODY=2.0, DOORS=1.0, HP=90.0, MPG=53.0, RPM=5500.0),\n",
       " Row(BODY=2.0, DOORS=2.0, HP=111.0, MPG=46.0, RPM=4800.0),\n",
       " Row(BODY=2.0, DOORS=1.0, HP=101.0, MPG=40.0, RPM=6000.0),\n",
       " Row(BODY=2.0, DOORS=1.0, HP=110.0, MPG=49.0, RPM=5250.0),\n",
       " Row(BODY=1.0, DOORS=2.0, HP=97.0, MPG=43.0, RPM=5000.0),\n",
       " Row(BODY=1.0, DOORS=2.0, HP=110.0, MPG=49.0, RPM=5250.0),\n",
       " Row(BODY=2.0, DOORS=2.0, HP=88.0, MPG=56.0, RPM=5500.0),\n",
       " Row(BODY=2.0, DOORS=2.0, HP=97.0, MPG=43.0, RPM=5000.0),\n",
       " Row(BODY=2.0, DOORS=1.0, HP=145.0, MPG=43.0, RPM=5000.0),\n",
       " Row(BODY=2.0, DOORS=1.0, HP=145.0, MPG=43.0, RPM=5000.0),\n",
       " Row(BODY=1.0, DOORS=2.0, HP=114.0, MPG=51.0, RPM=5400.0),\n",
       " Row(BODY=1.0, DOORS=2.0, HP=101.0, MPG=52.0, RPM=5800.0),\n",
       " Row(BODY=2.0, DOORS=1.0, HP=145.0, MPG=43.0, RPM=5000.0),\n",
       " Row(BODY=1.0, DOORS=2.0, HP=95.0, MPG=61.0, RPM=4150.0),\n",
       " Row(BODY=1.0, DOORS=2.0, HP=110.0, MPG=43.0, RPM=5500.0),\n",
       " Row(BODY=2.0, DOORS=2.0, HP=114.0, MPG=51.0, RPM=5400.0),\n",
       " Row(BODY=2.0, DOORS=1.0, HP=111.0, MPG=48.0, RPM=5000.0),\n",
       " Row(BODY=1.0, DOORS=2.0, HP=152.0, MPG=39.0, RPM=5200.0),\n",
       " Row(BODY=1.0, DOORS=2.0, HP=152.0, MPG=44.0, RPM=5200.0),\n",
       " Row(BODY=2.0, DOORS=1.0, HP=101.0, MPG=40.0, RPM=6000.0),\n",
       " Row(BODY=1.0, DOORS=2.0, HP=68.0, MPG=71.0, RPM=4500.0),\n",
       " Row(BODY=2.0, DOORS=2.0, HP=95.0, MPG=50.0, RPM=4150.0),\n",
       " Row(BODY=1.0, DOORS=2.0, HP=102.0, MPG=54.0, RPM=5500.0),\n",
       " Row(BODY=2.0, DOORS=2.0, HP=152.0, MPG=39.0, RPM=5200.0),\n",
       " Row(BODY=2.0, DOORS=1.0, HP=145.0, MPG=43.0, RPM=5000.0),\n",
       " Row(BODY=2.0, DOORS=1.0, HP=145.0, MPG=43.0, RPM=5000.0),\n",
       " Row(BODY=2.0, DOORS=1.0, HP=110.0, MPG=49.0, RPM=5250.0),\n",
       " Row(BODY=1.0, DOORS=1.0, HP=110.0, MPG=44.0, RPM=5500.0),\n",
       " Row(BODY=1.0, DOORS=2.0, HP=110.0, MPG=49.0, RPM=5250.0),\n",
       " Row(BODY=1.0, DOORS=2.0, HP=95.0, MPG=43.0, RPM=5000.0),\n",
       " Row(BODY=2.0, DOORS=1.0, HP=135.0, MPG=39.0, RPM=6000.0),\n",
       " Row(BODY=1.0, DOORS=2.0, HP=156.0, MPG=44.0, RPM=5200.0),\n",
       " Row(BODY=2.0, DOORS=2.0, HP=156.0, MPG=43.0, RPM=5200.0),\n",
       " Row(BODY=1.0, DOORS=2.0, HP=114.0, MPG=52.0, RPM=5400.0),\n",
       " Row(BODY=2.0, DOORS=1.0, HP=161.0, MPG=43.0, RPM=5200.0),\n",
       " Row(BODY=1.0, DOORS=1.0, HP=101.0, MPG=52.0, RPM=5800.0),\n",
       " Row(BODY=2.0, DOORS=1.0, HP=111.0, MPG=48.0, RPM=5000.0),\n",
       " Row(BODY=2.0, DOORS=1.0, HP=154.0, MPG=45.0, RPM=5000.0),\n",
       " Row(BODY=2.0, DOORS=1.0, HP=175.0, MPG=43.0, RPM=5000.0),\n",
       " Row(BODY=2.0, DOORS=2.0, HP=114.0, MPG=52.0, RPM=5400.0),\n",
       " Row(BODY=2.0, DOORS=1.0, HP=161.0, MPG=44.0, RPM=5200.0),\n",
       " Row(BODY=1.0, DOORS=2.0, HP=97.0, MPG=43.0, RPM=5000.0),\n",
       " Row(BODY=2.0, DOORS=2.0, HP=95.0, MPG=43.0, RPM=5000.0),\n",
       " Row(BODY=1.0, DOORS=2.0, HP=114.0, MPG=51.0, RPM=5400.0),\n",
       " Row(BODY=1.0, DOORS=2.0, HP=95.0, MPG=61.0, RPM=4150.0),\n",
       " Row(BODY=1.0, DOORS=2.0, HP=101.0, MPG=52.0, RPM=5800.0),\n",
       " Row(BODY=2.0, DOORS=2.0, HP=95.0, MPG=50.0, RPM=4150.0),\n",
       " Row(BODY=2.0, DOORS=1.0, HP=160.0, MPG=44.0, RPM=5200.0),\n",
       " Row(BODY=1.0, DOORS=2.0, HP=115.0, MPG=40.0, RPM=5500.0),\n",
       " Row(BODY=2.0, DOORS=1.0, HP=116.0, MPG=54.0, RPM=4800.0),\n",
       " Row(BODY=1.0, DOORS=2.0, HP=110.0, MPG=44.0, RPM=5500.0),\n",
       " Row(BODY=1.0, DOORS=2.0, HP=95.0, MPG=61.0, RPM=4150.0),\n",
       " Row(BODY=1.0, DOORS=2.0, HP=142.0, MPG=42.0, RPM=5600.0),\n",
       " Row(BODY=2.0, DOORS=1.0, HP=160.0, MPG=45.0, RPM=5500.0),\n",
       " Row(BODY=1.0, DOORS=2.0, HP=120.0, MPG=46.0, RPM=5000.0),\n",
       " Row(BODY=1.0, DOORS=2.0, HP=72.0, MPG=70.0, RPM=4200.0),\n",
       " Row(BODY=2.0, DOORS=1.0, HP=160.0, MPG=44.0, RPM=5200.0),\n",
       " Row(BODY=1.0, DOORS=2.0, HP=162.0, MPG=39.0, RPM=5100.0),\n",
       " Row(BODY=1.0, DOORS=2.0, HP=160.0, MPG=45.0, RPM=5500.0),\n",
       " Row(BODY=2.0, DOORS=2.0, HP=110.0, MPG=44.0, RPM=5500.0),\n",
       " Row(BODY=2.0, DOORS=2.0, HP=162.0, MPG=39.0, RPM=5100.0),\n",
       " Row(BODY=1.0, DOORS=2.0, HP=160.0, MPG=44.0, RPM=5300.0),\n",
       " Row(BODY=2.0, DOORS=1.0, HP=200.0, MPG=40.0, RPM=5200.0),\n",
       " Row(BODY=1.0, DOORS=1.0, HP=121.0, MPG=49.0, RPM=4250.0),\n",
       " Row(BODY=1.0, DOORS=2.0, HP=121.0, MPG=49.0, RPM=4250.0),\n",
       " Row(BODY=1.0, DOORS=2.0, HP=134.0, MPG=41.0, RPM=5500.0),\n",
       " Row(BODY=2.0, DOORS=1.0, HP=143.0, MPG=46.0, RPM=5500.0),\n",
       " Row(BODY=1.0, DOORS=2.0, HP=106.0, MPG=53.0, RPM=4800.0),\n",
       " Row(BODY=1.0, DOORS=2.0, HP=114.0, MPG=44.0, RPM=5400.0),\n",
       " Row(BODY=1.0, DOORS=2.0, HP=140.0, MPG=37.0, RPM=5500.0),\n",
       " Row(BODY=1.0, DOORS=2.0, HP=121.0, MPG=45.0, RPM=4250.0),\n",
       " Row(BODY=1.0, DOORS=2.0, HP=123.0, MPG=47.0, RPM=4350.0),\n",
       " Row(BODY=2.0, DOORS=1.0, HP=123.0, MPG=47.0, RPM=4350.0),\n",
       " Row(BODY=2.0, DOORS=2.0, HP=123.0, MPG=47.0, RPM=4350.0),\n",
       " Row(BODY=1.0, DOORS=2.0, HP=182.0, MPG=38.0, RPM=5400.0),\n",
       " Row(BODY=1.0, DOORS=2.0, HP=123.0, MPG=47.0, RPM=4350.0),\n",
       " Row(BODY=1.0, DOORS=2.0, HP=176.0, MPG=34.0, RPM=4750.0),\n",
       " Row(BODY=2.0, DOORS=1.0, HP=207.0, MPG=42.0, RPM=5900.0),\n",
       " Row(BODY=2.0, DOORS=1.0, HP=207.0, MPG=42.0, RPM=5900.0),\n",
       " Row(BODY=1.0, DOORS=2.0, HP=155.0, MPG=34.0, RPM=4750.0),\n",
       " Row(BODY=2.0, DOORS=1.0, HP=155.0, MPG=34.0, RPM=4750.0),\n",
       " Row(BODY=1.0, DOORS=2.0, HP=176.0, MPG=34.0, RPM=4750.0),\n",
       " Row(BODY=1.0, DOORS=1.0, HP=262.0, MPG=30.0, RPM=5000.0),\n",
       " Row(BODY=1.0, DOORS=2.0, HP=182.0, MPG=35.0, RPM=5400.0),\n",
       " Row(BODY=2.0, DOORS=1.0, HP=207.0, MPG=42.0, RPM=5900.0),\n",
       " Row(BODY=1.0, DOORS=2.0, HP=184.0, MPG=30.0, RPM=4500.0),\n",
       " Row(BODY=1.0, DOORS=1.0, HP=182.0, MPG=38.0, RPM=5400.0),\n",
       " Row(BODY=2.0, DOORS=1.0, HP=184.0, MPG=30.0, RPM=4500.0)]"
      ]
     },
     "execution_count": 38,
     "metadata": {},
     "output_type": "execute_result"
    }
   ],
   "source": [
    "autoMap = linhas.map(transformToNumeric)\n",
    "autoMap.persist()\n",
    "autoMap.collect()"
   ]
  },
  {
   "cell_type": "code",
   "execution_count": 39,
   "metadata": {},
   "outputs": [
    {
     "name": "stdout",
     "output_type": "stream",
     "text": [
      "+----+-----+----+-----+------+\n",
      "|BODY|DOORS|  HP|  MPG|   RPM|\n",
      "+----+-----+----+-----+------+\n",
      "| 2.0|  1.0|69.0| 67.0|4900.0|\n",
      "| 2.0|  1.0|48.0|100.0|5100.0|\n",
      "| 2.0|  1.0|68.0| 61.0|5000.0|\n",
      "| 2.0|  1.0|62.0| 74.0|4800.0|\n",
      "| 2.0|  1.0|68.0| 78.0|5500.0|\n",
      "| 2.0|  1.0|60.0| 80.0|5500.0|\n",
      "| 1.0|  1.0|69.0| 68.0|5200.0|\n",
      "| 2.0|  1.0|68.0| 78.0|5500.0|\n",
      "| 2.0|  1.0|68.0| 78.0|5500.0|\n",
      "| 2.0|  1.0|68.0| 69.0|5000.0|\n",
      "| 2.0|  1.0|68.0| 69.0|5500.0|\n",
      "| 2.0|  2.0|68.0| 69.0|5500.0|\n",
      "| 2.0|  2.0|68.0| 69.0|5500.0|\n",
      "| 2.0|  1.0|70.0| 81.0|5400.0|\n",
      "| 2.0|  1.0|62.0| 69.0|4800.0|\n",
      "| 2.0|  1.0|68.0| 69.0|5500.0|\n",
      "| 2.0|  1.0|58.0|103.0|4800.0|\n",
      "| 2.0|  2.0|62.0| 69.0|4800.0|\n",
      "| 2.0|  1.0|76.0| 64.0|6000.0|\n",
      "| 1.0|  2.0|70.0| 81.0|5400.0|\n",
      "+----+-----+----+-----+------+\n",
      "only showing top 20 rows\n",
      "\n"
     ]
    }
   ],
   "source": [
    "carrosDf = spSession.createDataFrame(autoMap)\n",
    "carrosDf.show()"
   ]
  },
  {
   "cell_type": "code",
   "execution_count": 40,
   "metadata": {},
   "outputs": [
    {
     "data": {
      "text/html": [
       "<div>\n",
       "<style scoped>\n",
       "    .dataframe tbody tr th:only-of-type {\n",
       "        vertical-align: middle;\n",
       "    }\n",
       "\n",
       "    .dataframe tbody tr th {\n",
       "        vertical-align: top;\n",
       "    }\n",
       "\n",
       "    .dataframe thead th {\n",
       "        text-align: right;\n",
       "    }\n",
       "</style>\n",
       "<table border=\"1\" class=\"dataframe\">\n",
       "  <thead>\n",
       "    <tr style=\"text-align: right;\">\n",
       "      <th></th>\n",
       "      <th>summary</th>\n",
       "      <th>BODY</th>\n",
       "      <th>DOORS</th>\n",
       "      <th>HP</th>\n",
       "      <th>MPG</th>\n",
       "      <th>RPM</th>\n",
       "    </tr>\n",
       "  </thead>\n",
       "  <tbody>\n",
       "    <tr>\n",
       "      <th>0</th>\n",
       "      <td>count</td>\n",
       "      <td>197</td>\n",
       "      <td>197</td>\n",
       "      <td>197</td>\n",
       "      <td>197</td>\n",
       "      <td>197</td>\n",
       "    </tr>\n",
       "    <tr>\n",
       "      <th>1</th>\n",
       "      <td>mean</td>\n",
       "      <td>1.532994923857868</td>\n",
       "      <td>1.5685279187817258</td>\n",
       "      <td>103.60406091370558</td>\n",
       "      <td>55.78172588832487</td>\n",
       "      <td>5118.0203045685275</td>\n",
       "    </tr>\n",
       "    <tr>\n",
       "      <th>2</th>\n",
       "      <td>stddev</td>\n",
       "      <td>0.5001812579359883</td>\n",
       "      <td>0.49654352778167493</td>\n",
       "      <td>37.639205349518356</td>\n",
       "      <td>13.182319291538608</td>\n",
       "      <td>481.03591405011446</td>\n",
       "    </tr>\n",
       "    <tr>\n",
       "      <th>3</th>\n",
       "      <td>min</td>\n",
       "      <td>1.0</td>\n",
       "      <td>1.0</td>\n",
       "      <td>48.0</td>\n",
       "      <td>30.0</td>\n",
       "      <td>4150.0</td>\n",
       "    </tr>\n",
       "    <tr>\n",
       "      <th>4</th>\n",
       "      <td>max</td>\n",
       "      <td>2.0</td>\n",
       "      <td>2.0</td>\n",
       "      <td>262.0</td>\n",
       "      <td>103.0</td>\n",
       "      <td>6600.0</td>\n",
       "    </tr>\n",
       "  </tbody>\n",
       "</table>\n",
       "</div>"
      ],
      "text/plain": [
       "  summary                BODY                DOORS                  HP  \\\n",
       "0   count                 197                  197                 197   \n",
       "1    mean   1.532994923857868   1.5685279187817258  103.60406091370558   \n",
       "2  stddev  0.5001812579359883  0.49654352778167493  37.639205349518356   \n",
       "3     min                 1.0                  1.0                48.0   \n",
       "4     max                 2.0                  2.0               262.0   \n",
       "\n",
       "                  MPG                 RPM  \n",
       "0                 197                 197  \n",
       "1   55.78172588832487  5118.0203045685275  \n",
       "2  13.182319291538608  481.03591405011446  \n",
       "3                30.0              4150.0  \n",
       "4               103.0              6600.0  "
      ]
     },
     "execution_count": 40,
     "metadata": {},
     "output_type": "execute_result"
    }
   ],
   "source": [
    "sumStats = carrosDf.describe().toPandas()\n",
    "sumStats"
   ]
  },
  {
   "cell_type": "code",
   "execution_count": 41,
   "metadata": {},
   "outputs": [
    {
     "data": {
      "text/plain": [
       "['1.532994923857868',\n",
       " '1.5685279187817258',\n",
       " '103.60406091370558',\n",
       " '55.78172588832487']"
      ]
     },
     "execution_count": 41,
     "metadata": {},
     "output_type": "execute_result"
    }
   ],
   "source": [
    "medias = sumStats.iloc[1, 1:5].values.tolist()\n",
    "medias"
   ]
  },
  {
   "cell_type": "code",
   "execution_count": 42,
   "metadata": {},
   "outputs": [
    {
     "data": {
      "text/plain": [
       "['0.5001812579359883',\n",
       " '0.49654352778167493',\n",
       " '37.639205349518356',\n",
       " '13.182319291538608']"
      ]
     },
     "execution_count": 42,
     "metadata": {},
     "output_type": "execute_result"
    }
   ],
   "source": [
    "dps = sumStats.iloc[2, 1:5].values.tolist()\n",
    "dps"
   ]
  },
  {
   "cell_type": "code",
   "execution_count": 43,
   "metadata": {},
   "outputs": [],
   "source": [
    "bcMedias = sc.broadcast(medias)\n",
    "bcDps = sc.broadcast(dps)"
   ]
  },
  {
   "cell_type": "code",
   "execution_count": 44,
   "metadata": {},
   "outputs": [],
   "source": [
    "from pyspark.ml.linalg import Vectors"
   ]
  },
  {
   "cell_type": "code",
   "execution_count": 45,
   "metadata": {},
   "outputs": [],
   "source": [
    "# normalizacao\n",
    "def centerAndScale(inRow):\n",
    "    global bcMedias\n",
    "    global bcDps\n",
    "    \n",
    "    meanArray = bcMedias.value\n",
    "    stdArray = bcDps.value\n",
    "    \n",
    "    retArray = []\n",
    "    for i in range(len(meanArray)):\n",
    "        retArray.append( (float(inRow[1]) - float(meanArray[i])) / float(stdArray[i]) )\n",
    "    return Vectors.dense(retArray)\n",
    "    "
   ]
  },
  {
   "cell_type": "code",
   "execution_count": 46,
   "metadata": {},
   "outputs": [
    {
     "data": {
      "text/plain": [
       "[DenseVector([-1.0656, -1.145, -2.726, -4.1557]),\n",
       " DenseVector([-1.0656, -1.145, -2.726, -4.1557]),\n",
       " DenseVector([-1.0656, -1.145, -2.726, -4.1557]),\n",
       " DenseVector([-1.0656, -1.145, -2.726, -4.1557]),\n",
       " DenseVector([-1.0656, -1.145, -2.726, -4.1557]),\n",
       " DenseVector([-1.0656, -1.145, -2.726, -4.1557]),\n",
       " DenseVector([-1.0656, -1.145, -2.726, -4.1557]),\n",
       " DenseVector([-1.0656, -1.145, -2.726, -4.1557]),\n",
       " DenseVector([-1.0656, -1.145, -2.726, -4.1557]),\n",
       " DenseVector([-1.0656, -1.145, -2.726, -4.1557]),\n",
       " DenseVector([-1.0656, -1.145, -2.726, -4.1557]),\n",
       " DenseVector([0.9337, 0.869, -2.6994, -4.0798]),\n",
       " DenseVector([0.9337, 0.869, -2.6994, -4.0798]),\n",
       " DenseVector([-1.0656, -1.145, -2.726, -4.1557]),\n",
       " DenseVector([-1.0656, -1.145, -2.726, -4.1557]),\n",
       " DenseVector([-1.0656, -1.145, -2.726, -4.1557]),\n",
       " DenseVector([-1.0656, -1.145, -2.726, -4.1557]),\n",
       " DenseVector([0.9337, 0.869, -2.6994, -4.0798]),\n",
       " DenseVector([-1.0656, -1.145, -2.726, -4.1557]),\n",
       " DenseVector([0.9337, 0.869, -2.6994, -4.0798]),\n",
       " DenseVector([-1.0656, -1.145, -2.726, -4.1557]),\n",
       " DenseVector([-1.0656, -1.145, -2.726, -4.1557]),\n",
       " DenseVector([0.9337, 0.869, -2.6994, -4.0798]),\n",
       " DenseVector([0.9337, 0.869, -2.6994, -4.0798]),\n",
       " DenseVector([0.9337, 0.869, -2.6994, -4.0798]),\n",
       " DenseVector([0.9337, 0.869, -2.6994, -4.0798]),\n",
       " DenseVector([-1.0656, -1.145, -2.726, -4.1557]),\n",
       " DenseVector([0.9337, 0.869, -2.6994, -4.0798]),\n",
       " DenseVector([-1.0656, -1.145, -2.726, -4.1557]),\n",
       " DenseVector([0.9337, 0.869, -2.6994, -4.0798]),\n",
       " DenseVector([0.9337, 0.869, -2.6994, -4.0798]),\n",
       " DenseVector([0.9337, 0.869, -2.6994, -4.0798]),\n",
       " DenseVector([-1.0656, -1.145, -2.726, -4.1557]),\n",
       " DenseVector([-1.0656, -1.145, -2.726, -4.1557]),\n",
       " DenseVector([0.9337, 0.869, -2.6994, -4.0798]),\n",
       " DenseVector([-1.0656, -1.145, -2.726, -4.1557]),\n",
       " DenseVector([0.9337, 0.869, -2.6994, -4.0798]),\n",
       " DenseVector([0.9337, 0.869, -2.6994, -4.0798]),\n",
       " DenseVector([0.9337, 0.869, -2.6994, -4.0798]),\n",
       " DenseVector([-1.0656, -1.145, -2.726, -4.1557]),\n",
       " DenseVector([0.9337, 0.869, -2.6994, -4.0798]),\n",
       " DenseVector([0.9337, 0.869, -2.6994, -4.0798]),\n",
       " DenseVector([0.9337, 0.869, -2.6994, -4.0798]),\n",
       " DenseVector([0.9337, 0.869, -2.6994, -4.0798]),\n",
       " DenseVector([-1.0656, -1.145, -2.726, -4.1557]),\n",
       " DenseVector([0.9337, 0.869, -2.6994, -4.0798]),\n",
       " DenseVector([0.9337, 0.869, -2.6994, -4.0798]),\n",
       " DenseVector([-1.0656, -1.145, -2.726, -4.1557]),\n",
       " DenseVector([0.9337, 0.869, -2.6994, -4.0798]),\n",
       " DenseVector([0.9337, 0.869, -2.6994, -4.0798]),\n",
       " DenseVector([-1.0656, -1.145, -2.726, -4.1557]),\n",
       " DenseVector([0.9337, 0.869, -2.6994, -4.0798]),\n",
       " DenseVector([-1.0656, -1.145, -2.726, -4.1557]),\n",
       " DenseVector([-1.0656, -1.145, -2.726, -4.1557]),\n",
       " DenseVector([0.9337, 0.869, -2.6994, -4.0798]),\n",
       " DenseVector([0.9337, 0.869, -2.6994, -4.0798]),\n",
       " DenseVector([-1.0656, -1.145, -2.726, -4.1557]),\n",
       " DenseVector([-1.0656, -1.145, -2.726, -4.1557]),\n",
       " DenseVector([-1.0656, -1.145, -2.726, -4.1557]),\n",
       " DenseVector([0.9337, 0.869, -2.6994, -4.0798]),\n",
       " DenseVector([0.9337, 0.869, -2.6994, -4.0798]),\n",
       " DenseVector([0.9337, 0.869, -2.6994, -4.0798]),\n",
       " DenseVector([-1.0656, -1.145, -2.726, -4.1557]),\n",
       " DenseVector([0.9337, 0.869, -2.6994, -4.0798]),\n",
       " DenseVector([0.9337, 0.869, -2.6994, -4.0798]),\n",
       " DenseVector([-1.0656, -1.145, -2.726, -4.1557]),\n",
       " DenseVector([-1.0656, -1.145, -2.726, -4.1557]),\n",
       " DenseVector([0.9337, 0.869, -2.6994, -4.0798]),\n",
       " DenseVector([-1.0656, -1.145, -2.726, -4.1557]),\n",
       " DenseVector([0.9337, 0.869, -2.6994, -4.0798]),\n",
       " DenseVector([0.9337, 0.869, -2.6994, -4.0798]),\n",
       " DenseVector([-1.0656, -1.145, -2.726, -4.1557]),\n",
       " DenseVector([0.9337, 0.869, -2.6994, -4.0798]),\n",
       " DenseVector([0.9337, 0.869, -2.6994, -4.0798]),\n",
       " DenseVector([-1.0656, -1.145, -2.726, -4.1557]),\n",
       " DenseVector([0.9337, 0.869, -2.6994, -4.0798]),\n",
       " DenseVector([0.9337, 0.869, -2.6994, -4.0798]),\n",
       " DenseVector([0.9337, 0.869, -2.6994, -4.0798]),\n",
       " DenseVector([0.9337, 0.869, -2.6994, -4.0798]),\n",
       " DenseVector([-1.0656, -1.145, -2.726, -4.1557]),\n",
       " DenseVector([0.9337, 0.869, -2.6994, -4.0798]),\n",
       " DenseVector([0.9337, 0.869, -2.6994, -4.0798]),\n",
       " DenseVector([0.9337, 0.869, -2.6994, -4.0798]),\n",
       " DenseVector([0.9337, 0.869, -2.6994, -4.0798]),\n",
       " DenseVector([-1.0656, -1.145, -2.726, -4.1557]),\n",
       " DenseVector([0.9337, 0.869, -2.6994, -4.0798]),\n",
       " DenseVector([-1.0656, -1.145, -2.726, -4.1557]),\n",
       " DenseVector([0.9337, 0.869, -2.6994, -4.0798]),\n",
       " DenseVector([-1.0656, -1.145, -2.726, -4.1557]),\n",
       " DenseVector([-1.0656, -1.145, -2.726, -4.1557]),\n",
       " DenseVector([0.9337, 0.869, -2.6994, -4.0798]),\n",
       " DenseVector([-1.0656, -1.145, -2.726, -4.1557]),\n",
       " DenseVector([0.9337, 0.869, -2.6994, -4.0798]),\n",
       " DenseVector([-1.0656, -1.145, -2.726, -4.1557]),\n",
       " DenseVector([0.9337, 0.869, -2.6994, -4.0798]),\n",
       " DenseVector([0.9337, 0.869, -2.6994, -4.0798]),\n",
       " DenseVector([0.9337, 0.869, -2.6994, -4.0798]),\n",
       " DenseVector([0.9337, 0.869, -2.6994, -4.0798]),\n",
       " DenseVector([-1.0656, -1.145, -2.726, -4.1557]),\n",
       " DenseVector([-1.0656, -1.145, -2.726, -4.1557]),\n",
       " DenseVector([0.9337, 0.869, -2.6994, -4.0798]),\n",
       " DenseVector([0.9337, 0.869, -2.6994, -4.0798]),\n",
       " DenseVector([-1.0656, -1.145, -2.726, -4.1557]),\n",
       " DenseVector([-1.0656, -1.145, -2.726, -4.1557]),\n",
       " DenseVector([-1.0656, -1.145, -2.726, -4.1557]),\n",
       " DenseVector([0.9337, 0.869, -2.6994, -4.0798]),\n",
       " DenseVector([0.9337, 0.869, -2.6994, -4.0798]),\n",
       " DenseVector([0.9337, 0.869, -2.6994, -4.0798]),\n",
       " DenseVector([-1.0656, -1.145, -2.726, -4.1557]),\n",
       " DenseVector([-1.0656, -1.145, -2.726, -4.1557]),\n",
       " DenseVector([0.9337, 0.869, -2.6994, -4.0798]),\n",
       " DenseVector([-1.0656, -1.145, -2.726, -4.1557]),\n",
       " DenseVector([-1.0656, -1.145, -2.726, -4.1557]),\n",
       " DenseVector([0.9337, 0.869, -2.6994, -4.0798]),\n",
       " DenseVector([0.9337, 0.869, -2.6994, -4.0798]),\n",
       " DenseVector([0.9337, 0.869, -2.6994, -4.0798]),\n",
       " DenseVector([0.9337, 0.869, -2.6994, -4.0798]),\n",
       " DenseVector([-1.0656, -1.145, -2.726, -4.1557]),\n",
       " DenseVector([-1.0656, -1.145, -2.726, -4.1557]),\n",
       " DenseVector([0.9337, 0.869, -2.6994, -4.0798]),\n",
       " DenseVector([0.9337, 0.869, -2.6994, -4.0798]),\n",
       " DenseVector([-1.0656, -1.145, -2.726, -4.1557]),\n",
       " DenseVector([0.9337, 0.869, -2.6994, -4.0798]),\n",
       " DenseVector([0.9337, 0.869, -2.6994, -4.0798]),\n",
       " DenseVector([0.9337, 0.869, -2.6994, -4.0798]),\n",
       " DenseVector([-1.0656, -1.145, -2.726, -4.1557]),\n",
       " DenseVector([0.9337, 0.869, -2.6994, -4.0798]),\n",
       " DenseVector([0.9337, 0.869, -2.6994, -4.0798]),\n",
       " DenseVector([-1.0656, -1.145, -2.726, -4.1557]),\n",
       " DenseVector([0.9337, 0.869, -2.6994, -4.0798]),\n",
       " DenseVector([0.9337, 0.869, -2.6994, -4.0798]),\n",
       " DenseVector([0.9337, 0.869, -2.6994, -4.0798]),\n",
       " DenseVector([0.9337, 0.869, -2.6994, -4.0798]),\n",
       " DenseVector([-1.0656, -1.145, -2.726, -4.1557]),\n",
       " DenseVector([-1.0656, -1.145, -2.726, -4.1557]),\n",
       " DenseVector([-1.0656, -1.145, -2.726, -4.1557]),\n",
       " DenseVector([-1.0656, -1.145, -2.726, -4.1557]),\n",
       " DenseVector([0.9337, 0.869, -2.6994, -4.0798]),\n",
       " DenseVector([0.9337, 0.869, -2.6994, -4.0798]),\n",
       " DenseVector([-1.0656, -1.145, -2.726, -4.1557]),\n",
       " DenseVector([0.9337, 0.869, -2.6994, -4.0798]),\n",
       " DenseVector([0.9337, 0.869, -2.6994, -4.0798]),\n",
       " DenseVector([0.9337, 0.869, -2.6994, -4.0798]),\n",
       " DenseVector([-1.0656, -1.145, -2.726, -4.1557]),\n",
       " DenseVector([-1.0656, -1.145, -2.726, -4.1557]),\n",
       " DenseVector([-1.0656, -1.145, -2.726, -4.1557]),\n",
       " DenseVector([-1.0656, -1.145, -2.726, -4.1557]),\n",
       " DenseVector([-1.0656, -1.145, -2.726, -4.1557]),\n",
       " DenseVector([0.9337, 0.869, -2.6994, -4.0798]),\n",
       " DenseVector([-1.0656, -1.145, -2.726, -4.1557]),\n",
       " DenseVector([0.9337, 0.869, -2.6994, -4.0798]),\n",
       " DenseVector([0.9337, 0.869, -2.6994, -4.0798]),\n",
       " DenseVector([0.9337, 0.869, -2.6994, -4.0798]),\n",
       " DenseVector([0.9337, 0.869, -2.6994, -4.0798]),\n",
       " DenseVector([0.9337, 0.869, -2.6994, -4.0798]),\n",
       " DenseVector([0.9337, 0.869, -2.6994, -4.0798]),\n",
       " DenseVector([-1.0656, -1.145, -2.726, -4.1557]),\n",
       " DenseVector([0.9337, 0.869, -2.6994, -4.0798]),\n",
       " DenseVector([-1.0656, -1.145, -2.726, -4.1557]),\n",
       " DenseVector([0.9337, 0.869, -2.6994, -4.0798]),\n",
       " DenseVector([0.9337, 0.869, -2.6994, -4.0798]),\n",
       " DenseVector([0.9337, 0.869, -2.6994, -4.0798]),\n",
       " DenseVector([-1.0656, -1.145, -2.726, -4.1557]),\n",
       " DenseVector([0.9337, 0.869, -2.6994, -4.0798]),\n",
       " DenseVector([0.9337, 0.869, -2.6994, -4.0798]),\n",
       " DenseVector([-1.0656, -1.145, -2.726, -4.1557]),\n",
       " DenseVector([0.9337, 0.869, -2.6994, -4.0798]),\n",
       " DenseVector([0.9337, 0.869, -2.6994, -4.0798]),\n",
       " DenseVector([0.9337, 0.869, -2.6994, -4.0798]),\n",
       " DenseVector([0.9337, 0.869, -2.6994, -4.0798]),\n",
       " DenseVector([0.9337, 0.869, -2.6994, -4.0798]),\n",
       " DenseVector([-1.0656, -1.145, -2.726, -4.1557]),\n",
       " DenseVector([-1.0656, -1.145, -2.726, -4.1557]),\n",
       " DenseVector([0.9337, 0.869, -2.6994, -4.0798]),\n",
       " DenseVector([0.9337, 0.869, -2.6994, -4.0798]),\n",
       " DenseVector([-1.0656, -1.145, -2.726, -4.1557]),\n",
       " DenseVector([0.9337, 0.869, -2.6994, -4.0798]),\n",
       " DenseVector([0.9337, 0.869, -2.6994, -4.0798]),\n",
       " DenseVector([0.9337, 0.869, -2.6994, -4.0798]),\n",
       " DenseVector([0.9337, 0.869, -2.6994, -4.0798]),\n",
       " DenseVector([0.9337, 0.869, -2.6994, -4.0798]),\n",
       " DenseVector([-1.0656, -1.145, -2.726, -4.1557]),\n",
       " DenseVector([0.9337, 0.869, -2.6994, -4.0798]),\n",
       " DenseVector([0.9337, 0.869, -2.6994, -4.0798]),\n",
       " DenseVector([0.9337, 0.869, -2.6994, -4.0798]),\n",
       " DenseVector([0.9337, 0.869, -2.6994, -4.0798]),\n",
       " DenseVector([-1.0656, -1.145, -2.726, -4.1557]),\n",
       " DenseVector([-1.0656, -1.145, -2.726, -4.1557]),\n",
       " DenseVector([0.9337, 0.869, -2.6994, -4.0798]),\n",
       " DenseVector([-1.0656, -1.145, -2.726, -4.1557]),\n",
       " DenseVector([0.9337, 0.869, -2.6994, -4.0798]),\n",
       " DenseVector([-1.0656, -1.145, -2.726, -4.1557]),\n",
       " DenseVector([0.9337, 0.869, -2.6994, -4.0798]),\n",
       " DenseVector([-1.0656, -1.145, -2.726, -4.1557]),\n",
       " DenseVector([0.9337, 0.869, -2.6994, -4.0798]),\n",
       " DenseVector([-1.0656, -1.145, -2.726, -4.1557]),\n",
       " DenseVector([-1.0656, -1.145, -2.726, -4.1557])]"
      ]
     },
     "execution_count": 46,
     "metadata": {},
     "output_type": "execute_result"
    }
   ],
   "source": [
    "csAuto = carrosDf.rdd.map(centerAndScale)\n",
    "csAuto.collect()"
   ]
  },
  {
   "cell_type": "code",
   "execution_count": 47,
   "metadata": {},
   "outputs": [
    {
     "name": "stdout",
     "output_type": "stream",
     "text": [
      "+--------------------+\n",
      "|            features|\n",
      "+--------------------+\n",
      "|[-1.0656035495158...|\n",
      "|[-1.0656035495158...|\n",
      "|[-1.0656035495158...|\n",
      "|[-1.0656035495158...|\n",
      "|[-1.0656035495158...|\n",
      "|[-1.0656035495158...|\n",
      "+--------------------+\n",
      "only showing top 6 rows\n",
      "\n"
     ]
    }
   ],
   "source": [
    "autoRows = csAuto.map(lambda f: Row(features = f))\n",
    "autoDf = spSession.createDataFrame(autoRows)\n",
    "autoDf.select(\"features\").show(6)"
   ]
  },
  {
   "cell_type": "code",
   "execution_count": 48,
   "metadata": {},
   "outputs": [],
   "source": [
    "# k-means\n",
    "from pyspark.ml.clustering import KMeans"
   ]
  },
  {
   "cell_type": "code",
   "execution_count": 49,
   "metadata": {},
   "outputs": [
    {
     "name": "stdout",
     "output_type": "stream",
     "text": [
      "+--------------------+----------+\n",
      "|            features|prediction|\n",
      "+--------------------+----------+\n",
      "|[-1.0656035495158...|         1|\n",
      "|[-1.0656035495158...|         1|\n",
      "|[-1.0656035495158...|         1|\n",
      "|[-1.0656035495158...|         1|\n",
      "|[-1.0656035495158...|         1|\n",
      "|[-1.0656035495158...|         1|\n",
      "|[-1.0656035495158...|         1|\n",
      "|[-1.0656035495158...|         1|\n",
      "|[-1.0656035495158...|         1|\n",
      "|[-1.0656035495158...|         1|\n",
      "|[-1.0656035495158...|         1|\n",
      "|[0.93367168148051...|         0|\n",
      "|[0.93367168148051...|         0|\n",
      "|[-1.0656035495158...|         1|\n",
      "|[-1.0656035495158...|         1|\n",
      "|[-1.0656035495158...|         1|\n",
      "|[-1.0656035495158...|         1|\n",
      "|[0.93367168148051...|         0|\n",
      "|[-1.0656035495158...|         1|\n",
      "|[0.93367168148051...|         0|\n",
      "+--------------------+----------+\n",
      "only showing top 20 rows\n",
      "\n"
     ]
    }
   ],
   "source": [
    "kmeans = KMeans(k=3, seed = 1)\n",
    "model = kmeans.fit(autoDf)\n",
    "previsoes = model.transform(autoDf)\n",
    "previsoes.show()"
   ]
  },
  {
   "cell_type": "code",
   "execution_count": 50,
   "metadata": {},
   "outputs": [],
   "source": [
    "# plot\n",
    "import pandas as pd\n",
    "import matplotlib.pylab as plt\n",
    "%matplotlib inline"
   ]
  },
  {
   "cell_type": "code",
   "execution_count": 51,
   "metadata": {},
   "outputs": [],
   "source": [
    "def unstripData(instr):\n",
    "    return (instr[\"prediction\"], \n",
    "            instr[\"features\"][0], \n",
    "            instr[\"features\"][1],\n",
    "            instr[\"features\"][2],\n",
    "            instr[\"features\"][3]\n",
    "           )"
   ]
  },
  {
   "cell_type": "code",
   "execution_count": 52,
   "metadata": {},
   "outputs": [],
   "source": [
    "unstripped = previsoes.rdd.map(unstripData)\n",
    "predList = unstripped.collect()\n",
    "predPd = pd.DataFrame(predList)"
   ]
  },
  {
   "cell_type": "code",
   "execution_count": 53,
   "metadata": {},
   "outputs": [
    {
     "data": {
      "text/html": [
       "<div>\n",
       "<style scoped>\n",
       "    .dataframe tbody tr th:only-of-type {\n",
       "        vertical-align: middle;\n",
       "    }\n",
       "\n",
       "    .dataframe tbody tr th {\n",
       "        vertical-align: top;\n",
       "    }\n",
       "\n",
       "    .dataframe thead th {\n",
       "        text-align: right;\n",
       "    }\n",
       "</style>\n",
       "<table border=\"1\" class=\"dataframe\">\n",
       "  <thead>\n",
       "    <tr style=\"text-align: right;\">\n",
       "      <th></th>\n",
       "      <th>0</th>\n",
       "      <th>1</th>\n",
       "      <th>2</th>\n",
       "      <th>3</th>\n",
       "      <th>4</th>\n",
       "    </tr>\n",
       "  </thead>\n",
       "  <tbody>\n",
       "    <tr>\n",
       "      <th>0</th>\n",
       "      <td>1</td>\n",
       "      <td>-1.065604</td>\n",
       "      <td>-1.144971</td>\n",
       "      <td>-2.725989</td>\n",
       "      <td>-4.155697</td>\n",
       "    </tr>\n",
       "    <tr>\n",
       "      <th>1</th>\n",
       "      <td>1</td>\n",
       "      <td>-1.065604</td>\n",
       "      <td>-1.144971</td>\n",
       "      <td>-2.725989</td>\n",
       "      <td>-4.155697</td>\n",
       "    </tr>\n",
       "    <tr>\n",
       "      <th>2</th>\n",
       "      <td>1</td>\n",
       "      <td>-1.065604</td>\n",
       "      <td>-1.144971</td>\n",
       "      <td>-2.725989</td>\n",
       "      <td>-4.155697</td>\n",
       "    </tr>\n",
       "    <tr>\n",
       "      <th>3</th>\n",
       "      <td>1</td>\n",
       "      <td>-1.065604</td>\n",
       "      <td>-1.144971</td>\n",
       "      <td>-2.725989</td>\n",
       "      <td>-4.155697</td>\n",
       "    </tr>\n",
       "    <tr>\n",
       "      <th>4</th>\n",
       "      <td>1</td>\n",
       "      <td>-1.065604</td>\n",
       "      <td>-1.144971</td>\n",
       "      <td>-2.725989</td>\n",
       "      <td>-4.155697</td>\n",
       "    </tr>\n",
       "  </tbody>\n",
       "</table>\n",
       "</div>"
      ],
      "text/plain": [
       "   0         1         2         3         4\n",
       "0  1 -1.065604 -1.144971 -2.725989 -4.155697\n",
       "1  1 -1.065604 -1.144971 -2.725989 -4.155697\n",
       "2  1 -1.065604 -1.144971 -2.725989 -4.155697\n",
       "3  1 -1.065604 -1.144971 -2.725989 -4.155697\n",
       "4  1 -1.065604 -1.144971 -2.725989 -4.155697"
      ]
     },
     "execution_count": 53,
     "metadata": {},
     "output_type": "execute_result"
    }
   ],
   "source": [
    "predPd.head()"
   ]
  },
  {
   "cell_type": "code",
   "execution_count": 54,
   "metadata": {},
   "outputs": [
    {
     "data": {
      "image/png": "[encoded data removed]",
      "text/plain": [
       "<Figure size 432x288 with 1 Axes>"
      ]
     },
     "metadata": {
      "needs_background": "light"
     },
     "output_type": "display_data"
    }
   ],
   "source": [
    "plt.cla()\n",
    "plt.scatter(predPd[3], predPd[4], c = predPd[0])\n",
    "plt.show()"
   ]
  },
  {
   "cell_type": "markdown",
   "metadata": {},
   "source": [
    "### JSON"
   ]
  },
  {
   "cell_type": "code",
   "execution_count": 55,
   "metadata": {},
   "outputs": [],
   "source": [
    "json = spSession.read.json(\"data/funcionarios.json\")"
   ]
  },
  {
   "cell_type": "code",
   "execution_count": 56,
   "metadata": {},
   "outputs": [
    {
     "data": {
      "text/plain": [
       "[Row(deptid='1000', idade='42', nome='Gilmar Rezende', salario='5000', sexo='m'),\n",
       " Row(deptid='2000', idade='50', nome='Matias Tavares', salario='8500', sexo='m'),\n",
       " Row(deptid='1000', idade='36', nome='Paulo Miranda', salario='9700', sexo='m')]"
      ]
     },
     "execution_count": 56,
     "metadata": {},
     "output_type": "execute_result"
    }
   ],
   "source": [
    "json.take(3)"
   ]
  },
  {
   "cell_type": "code",
   "execution_count": 57,
   "metadata": {},
   "outputs": [
    {
     "data": {
      "text/plain": [
       "5"
      ]
     },
     "execution_count": 57,
     "metadata": {},
     "output_type": "execute_result"
    }
   ],
   "source": [
    "json.count()"
   ]
  },
  {
   "cell_type": "code",
   "execution_count": 58,
   "metadata": {},
   "outputs": [
    {
     "name": "stdout",
     "output_type": "stream",
     "text": [
      "+------+-----+----------------+-------+----+\n",
      "|deptid|idade|            nome|salario|sexo|\n",
      "+------+-----+----------------+-------+----+\n",
      "|  1000|   42|  Gilmar Rezende|   5000|   m|\n",
      "|  2000|   50|  Matias Tavares|   8500|   m|\n",
      "|  1000|   36|   Paulo Miranda|   9700|   m|\n",
      "|  1000|   41|Ana Paula Soares|   9500|   f|\n",
      "|  2000|   34|   Carolina Maia|   6500|   m|\n",
      "+------+-----+----------------+-------+----+\n",
      "\n"
     ]
    }
   ],
   "source": [
    "json.show()"
   ]
  },
  {
   "cell_type": "code",
   "execution_count": 59,
   "metadata": {},
   "outputs": [
    {
     "data": {
      "text/plain": [
       "pyspark.sql.dataframe.DataFrame"
      ]
     },
     "execution_count": 59,
     "metadata": {},
     "output_type": "execute_result"
    }
   ],
   "source": [
    "type(json)"
   ]
  },
  {
   "cell_type": "code",
   "execution_count": 60,
   "metadata": {},
   "outputs": [
    {
     "name": "stdout",
     "output_type": "stream",
     "text": [
      "root\n",
      " |-- deptid: string (nullable = true)\n",
      " |-- idade: string (nullable = true)\n",
      " |-- nome: string (nullable = true)\n",
      " |-- salario: string (nullable = true)\n",
      " |-- sexo: string (nullable = true)\n",
      "\n"
     ]
    }
   ],
   "source": [
    "json.printSchema()"
   ]
  },
  {
   "cell_type": "code",
   "execution_count": 61,
   "metadata": {},
   "outputs": [
    {
     "name": "stdout",
     "output_type": "stream",
     "text": [
      "+----------------+\n",
      "|            nome|\n",
      "+----------------+\n",
      "|  Gilmar Rezende|\n",
      "|  Matias Tavares|\n",
      "|   Paulo Miranda|\n",
      "|Ana Paula Soares|\n",
      "|   Carolina Maia|\n",
      "+----------------+\n",
      "\n"
     ]
    }
   ],
   "source": [
    "json.select(\"nome\").show()"
   ]
  },
  {
   "cell_type": "code",
   "execution_count": 62,
   "metadata": {},
   "outputs": [
    {
     "name": "stdout",
     "output_type": "stream",
     "text": [
      "+------+-----+--------------+-------+----+\n",
      "|deptid|idade|          nome|salario|sexo|\n",
      "+------+-----+--------------+-------+----+\n",
      "|  2000|   50|Matias Tavares|   8500|   m|\n",
      "+------+-----+--------------+-------+----+\n",
      "\n"
     ]
    }
   ],
   "source": [
    "json.filter(json[\"idade\"] == 50).show()"
   ]
  },
  {
   "cell_type": "code",
   "execution_count": 63,
   "metadata": {},
   "outputs": [
    {
     "name": "stdout",
     "output_type": "stream",
     "text": [
      "+----+-----+\n",
      "|sexo|count|\n",
      "+----+-----+\n",
      "|   m|    4|\n",
      "|   f|    1|\n",
      "+----+-----+\n",
      "\n"
     ]
    }
   ],
   "source": [
    "json.groupBy(\"sexo\").count().show()"
   ]
  },
  {
   "cell_type": "code",
   "execution_count": 67,
   "metadata": {},
   "outputs": [
    {
     "name": "stdout",
     "output_type": "stream",
     "text": [
      "+------+----------+-----------------+\n",
      "|deptid|max(idade)|     avg(salario)|\n",
      "+------+----------+-----------------+\n",
      "|  2000|        50|           7500.0|\n",
      "|  1000|        42|8066.666666666667|\n",
      "+------+----------+-----------------+\n",
      "\n"
     ]
    }
   ],
   "source": [
    "json.groupBy(\"deptid\").agg({\"salario\": \"avg\", \"idade\": \"max\"}).show()"
   ]
  },
  {
   "cell_type": "code",
   "execution_count": 65,
   "metadata": {},
   "outputs": [],
   "source": [
    "# spark 1.X\n",
    "json.registerTempTable(\"funcTB\")"
   ]
  },
  {
   "cell_type": "code",
   "execution_count": 68,
   "metadata": {},
   "outputs": [
    {
     "name": "stdout",
     "output_type": "stream",
     "text": [
      "+------+-----+----------------+-------+----+\n",
      "|deptid|idade|            nome|salario|sexo|\n",
      "+------+-----+----------------+-------+----+\n",
      "|  1000|   42|  Gilmar Rezende|   5000|   m|\n",
      "|  2000|   50|  Matias Tavares|   8500|   m|\n",
      "|  1000|   36|   Paulo Miranda|   9700|   m|\n",
      "|  1000|   41|Ana Paula Soares|   9500|   f|\n",
      "|  2000|   34|   Carolina Maia|   6500|   m|\n",
      "+------+-----+----------------+-------+----+\n",
      "\n"
     ]
    }
   ],
   "source": [
    "spSession.sql(\"select * from funcTB\").show()"
   ]
  },
  {
   "cell_type": "code",
   "execution_count": 69,
   "metadata": {},
   "outputs": [],
   "source": [
    "# spark 2.x+\n",
    "json.createTempView(\"funcTB2\")"
   ]
  },
  {
   "cell_type": "code",
   "execution_count": 71,
   "metadata": {},
   "outputs": [
    {
     "name": "stdout",
     "output_type": "stream",
     "text": [
      "+------+-----+----------------+-------+----+\n",
      "|deptid|idade|            nome|salario|sexo|\n",
      "+------+-----+----------------+-------+----+\n",
      "|  1000|   42|  Gilmar Rezende|   5000|   m|\n",
      "|  2000|   50|  Matias Tavares|   8500|   m|\n",
      "|  1000|   36|   Paulo Miranda|   9700|   m|\n",
      "|  1000|   41|Ana Paula Soares|   9500|   f|\n",
      "|  2000|   34|   Carolina Maia|   6500|   m|\n",
      "+------+-----+----------------+-------+----+\n",
      "\n"
     ]
    }
   ],
   "source": [
    "spSession.sql(\"select * from funcTB2\").show()"
   ]
  },
  {
   "cell_type": "markdown",
   "metadata": {},
   "source": [
    "### Temp Tables\n",
    "* Utilizado para SQL Ansi\n"
   ]
  },
  {
   "cell_type": "code",
   "execution_count": 75,
   "metadata": {},
   "outputs": [],
   "source": [
    "json.createOrReplaceTempView(\"funcTB\")"
   ]
  },
  {
   "cell_type": "code",
   "execution_count": 76,
   "metadata": {},
   "outputs": [
    {
     "name": "stdout",
     "output_type": "stream",
     "text": [
      "+------+-----+--------------+-------+----+\n",
      "|deptid|idade|          nome|salario|sexo|\n",
      "+------+-----+--------------+-------+----+\n",
      "|  1000|   42|Gilmar Rezende|   5000|   m|\n",
      "|  2000|   50|Matias Tavares|   8500|   m|\n",
      "+------+-----+--------------+-------+----+\n",
      "only showing top 2 rows\n",
      "\n"
     ]
    }
   ],
   "source": [
    "spSession.sql(\"select * from funcTB\").show(2)"
   ]
  },
  {
   "cell_type": "code",
   "execution_count": 88,
   "metadata": {},
   "outputs": [],
   "source": [
    "sqlContext.registerDataFrameAsTable(json, \"funcTB3\")"
   ]
  },
  {
   "cell_type": "code",
   "execution_count": 79,
   "metadata": {},
   "outputs": [
    {
     "name": "stdout",
     "output_type": "stream",
     "text": [
      "+------+-----+--------------+-------+----+\n",
      "|deptid|idade|          nome|salario|sexo|\n",
      "+------+-----+--------------+-------+----+\n",
      "|  1000|   42|Gilmar Rezende|   5000|   m|\n",
      "|  2000|   50|Matias Tavares|   8500|   m|\n",
      "+------+-----+--------------+-------+----+\n",
      "only showing top 2 rows\n",
      "\n"
     ]
    }
   ],
   "source": [
    "spSession.sql(\"select * from funcTB3\").show(2)"
   ]
  },
  {
   "cell_type": "code",
   "execution_count": 89,
   "metadata": {},
   "outputs": [],
   "source": [
    "# referenciando o temp table a um objeto\n",
    "funcTB3 = spSession.table(\"funcTB3\")"
   ]
  },
  {
   "cell_type": "code",
   "execution_count": 90,
   "metadata": {},
   "outputs": [
    {
     "data": {
      "text/plain": [
       "pyspark.sql.dataframe.DataFrame"
      ]
     },
     "execution_count": 90,
     "metadata": {},
     "output_type": "execute_result"
    }
   ],
   "source": [
    "type(funcTB3)"
   ]
  },
  {
   "cell_type": "code",
   "execution_count": 92,
   "metadata": {},
   "outputs": [
    {
     "data": {
      "text/plain": [
       "Row(deptid='1000', idade='42', nome='Gilmar Rezende', salario='5000', sexo='m')"
      ]
     },
     "execution_count": 92,
     "metadata": {},
     "output_type": "execute_result"
    }
   ],
   "source": [
    "funcTB3.filter(funcTB3[\"idade\"] == 42).first()"
   ]
  },
  {
   "cell_type": "code",
   "execution_count": 93,
   "metadata": {},
   "outputs": [
    {
     "data": {
      "text/plain": [
       "True"
      ]
     },
     "execution_count": 93,
     "metadata": {},
     "output_type": "execute_result"
    }
   ],
   "source": [
    "# comparando dataframe com table\n",
    "sorted(funcTB3.collect()) == sorted(json.collect())"
   ]
  },
  {
   "cell_type": "code",
   "execution_count": 94,
   "metadata": {},
   "outputs": [],
   "source": [
    "sqlContext.dropTempTable(\"funcTB3\")"
   ]
  }
 ],
 "metadata": {
  "kernelspec": {
   "display_name": "Python 3",
   "language": "python",
   "name": "python3"
  },
  "language_info": {
   "codemirror_mode": {
    "name": "ipython",
    "version": 3
   },
   "file_extension": ".py",
   "mimetype": "text/x-python",
   "name": "python",
   "nbconvert_exporter": "python",
   "pygments_lexer": "ipython3",
   "version": "3.7.9"
  }
 },
 "nbformat": 4,
 "nbformat_minor": 4
}
